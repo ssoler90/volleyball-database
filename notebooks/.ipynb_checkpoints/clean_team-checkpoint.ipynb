{
 "cells": [
  {
   "cell_type": "markdown",
   "id": "ee956798",
   "metadata": {},
   "source": [
    "# Limpieza de los datos de los equipos\n",
    "Una vez obtenidos los datos de los equipos de la liga polaca de voleibol, el objetivo ahora será efectuar una limpieza de datos de los mismos. Por lo tanto, se buscará seguir las siguientes directrices:\n",
    "- Unificar el mismo equipo que pueda haber tenido distintos nombres a lo largo del tiempo\n",
    "- Identificar las diferentes ciudades de los equipos\n",
    "- Crear un identificador (primary key) para cada equipo"
   ]
  },
  {
   "cell_type": "code",
   "execution_count": 1,
   "id": "acde631f",
   "metadata": {},
   "outputs": [],
   "source": [
    "import pandas as pd"
   ]
  },
  {
   "cell_type": "code",
   "execution_count": 3,
   "id": "22199ecb",
   "metadata": {},
   "outputs": [],
   "source": [
    "# Cargar el archivo de los equipos\n",
    "path = 'C:/Users/soler/Desktop/My_works/volleyball-database/data/raw/plusliga_teams_unique.csv'\n",
    "teams_raw = pd.read_csv(path)"
   ]
  },
  {
   "cell_type": "code",
   "execution_count": 8,
   "id": "6e7be2f3",
   "metadata": {},
   "outputs": [
    {
     "data": {
      "text/html": [
       "<div>\n",
       "<style scoped>\n",
       "    .dataframe tbody tr th:only-of-type {\n",
       "        vertical-align: middle;\n",
       "    }\n",
       "\n",
       "    .dataframe tbody tr th {\n",
       "        vertical-align: top;\n",
       "    }\n",
       "\n",
       "    .dataframe thead th {\n",
       "        text-align: right;\n",
       "    }\n",
       "</style>\n",
       "<table border=\"1\" class=\"dataframe\">\n",
       "  <thead>\n",
       "    <tr style=\"text-align: right;\">\n",
       "      <th></th>\n",
       "      <th>team</th>\n",
       "    </tr>\n",
       "  </thead>\n",
       "  <tbody>\n",
       "    <tr>\n",
       "      <th>0</th>\n",
       "      <td>1044 - GWARDIA WROCŁAW</td>\n",
       "    </tr>\n",
       "    <tr>\n",
       "      <th>1</th>\n",
       "      <td>AKS RESOVIA RZESZÓW</td>\n",
       "    </tr>\n",
       "    <tr>\n",
       "      <th>2</th>\n",
       "      <td>Aluron CMC Warta Zawiercie</td>\n",
       "    </tr>\n",
       "    <tr>\n",
       "      <th>3</th>\n",
       "      <td>Aluron Virtu CMC Zawiercie</td>\n",
       "    </tr>\n",
       "    <tr>\n",
       "      <th>4</th>\n",
       "      <td>Aluron Virtu Warta Zawiercie</td>\n",
       "    </tr>\n",
       "    <tr>\n",
       "      <th>...</th>\n",
       "      <td>...</td>\n",
       "    </tr>\n",
       "    <tr>\n",
       "      <th>109</th>\n",
       "      <td>Wkręt-met AZS Częstochowa</td>\n",
       "    </tr>\n",
       "    <tr>\n",
       "      <th>110</th>\n",
       "      <td>ZAK SA KĘDZIERZYN-KOŹLE</td>\n",
       "    </tr>\n",
       "    <tr>\n",
       "      <th>111</th>\n",
       "      <td>ZAKSA Kędzierzyn-Koźle</td>\n",
       "    </tr>\n",
       "    <tr>\n",
       "      <th>112</th>\n",
       "      <td>Łuczniczka Bydgoszcz</td>\n",
       "    </tr>\n",
       "    <tr>\n",
       "      <th>113</th>\n",
       "      <td>Ślepsk Malow Suwałki</td>\n",
       "    </tr>\n",
       "  </tbody>\n",
       "</table>\n",
       "<p>114 rows × 1 columns</p>\n",
       "</div>"
      ],
      "text/plain": [
       "                             team\n",
       "0          1044 - GWARDIA WROCŁAW\n",
       "1             AKS RESOVIA RZESZÓW\n",
       "2      Aluron CMC Warta Zawiercie\n",
       "3      Aluron Virtu CMC Zawiercie\n",
       "4    Aluron Virtu Warta Zawiercie\n",
       "..                            ...\n",
       "109     Wkręt-met AZS Częstochowa\n",
       "110       ZAK SA KĘDZIERZYN-KOŹLE\n",
       "111        ZAKSA Kędzierzyn-Koźle\n",
       "112          Łuczniczka Bydgoszcz\n",
       "113          Ślepsk Malow Suwałki\n",
       "\n",
       "[114 rows x 1 columns]"
      ]
     },
     "execution_count": 8,
     "metadata": {},
     "output_type": "execute_result"
    }
   ],
   "source": [
    "teams_raw"
   ]
  },
  {
   "cell_type": "markdown",
   "id": "fbefbe0c",
   "metadata": {},
   "source": [
    "En total se extrajeron 114 equipos pero muchos de ellos están repetidos con nombres parecidos o en mayúscula, minúscula, etc... \n",
    "\n",
    "## 1 - WROCŁAW\n",
    "El primer equipo que encontramos es el 1044 - GWARDIA WROCŁAW que tiene tres palabras claves"
   ]
  },
  {
   "cell_type": "code",
   "execution_count": 14,
   "id": "18e1e406",
   "metadata": {},
   "outputs": [],
   "source": [
    "# Convertimos todo a minúscula \n",
    "teams_raw_lower = teams_raw['team'].str.lower()"
   ]
  },
  {
   "cell_type": "code",
   "execution_count": 17,
   "id": "c3b5b0b2",
   "metadata": {},
   "outputs": [
    {
     "data": {
      "text/plain": [
       "0      1044 - gwardia wrocław\n",
       "40    hefra - gwardia wrocław\n",
       "59         ks gwardia wrocław\n",
       "Name: team, dtype: object"
      ]
     },
     "execution_count": 17,
     "metadata": {},
     "output_type": "execute_result"
    }
   ],
   "source": [
    "teams_raw_lower[teams_raw_lower.str.contains('wrocław')]"
   ]
  },
  {
   "cell_type": "code",
   "execution_count": 18,
   "id": "cf3ad1db",
   "metadata": {},
   "outputs": [
    {
     "data": {
      "text/plain": [
       "0      1044 - gwardia wrocław\n",
       "40    hefra - gwardia wrocław\n",
       "59         ks gwardia wrocław\n",
       "Name: team, dtype: object"
      ]
     },
     "execution_count": 18,
     "metadata": {},
     "output_type": "execute_result"
    }
   ],
   "source": [
    "teams_raw_lower[teams_raw_lower.str.contains('gwardia')]"
   ]
  },
  {
   "cell_type": "code",
   "execution_count": 21,
   "id": "c6a94c0b",
   "metadata": {},
   "outputs": [
    {
     "data": {
      "text/plain": [
       "1                     aks resovia rzeszów\n",
       "16                    bks visła bydgoszcz\n",
       "17                bksch delecta bydgoszcz\n",
       "29                     eks skra bełchatów\n",
       "37                           gks katowice\n",
       "38     grupa azoty zaksa kędzierzyn-koźle\n",
       "57                 ks azs częstochowa ssa\n",
       "58                        ks citroen nysa\n",
       "59                     ks gwardia wrocław\n",
       "60            ks ivett jastrzębie borynia\n",
       "61                         ks jadar radom\n",
       "62             ks jastrzębski węgiel s.a.\n",
       "63                               ks morze\n",
       "64                      ks morze szczecin\n",
       "65                                ks nysa\n",
       "66                     ks pzu azs olsztyn\n",
       "69                     mks banimex będzin\n",
       "70                             mks będzin\n",
       "77                           nks nto nysa\n",
       "78                               nks nysa\n",
       "80                 nowak-mosty mks będzin\n",
       "111                zaksa kędzierzyn-koźle\n",
       "Name: team, dtype: object"
      ]
     },
     "execution_count": 21,
     "metadata": {},
     "output_type": "execute_result"
    }
   ],
   "source": [
    "teams_raw_lower[teams_raw_lower.str.contains('ks')]"
   ]
  },
  {
   "cell_type": "markdown",
   "id": "4e3f3a4c",
   "metadata": {},
   "source": [
    "Con respecto a la ciudad Wrocław, solo existe un equipo al que denominaremos Gwardia Wrocław"
   ]
  },
  {
   "cell_type": "code",
   "execution_count": 23,
   "id": "e8ddeda5",
   "metadata": {},
   "outputs": [],
   "source": [
    "# Renombramos la columna team como team_raw para evitar confusion\n",
    "teams_raw = teams_raw.rename(columns={'team':'team_raw'})"
   ]
  },
  {
   "cell_type": "code",
   "execution_count": 26,
   "id": "a8b592a1",
   "metadata": {},
   "outputs": [],
   "source": [
    "index_wroclaw = teams_raw_lower[teams_raw_lower.str.contains('wrocław')].index"
   ]
  },
  {
   "cell_type": "code",
   "execution_count": 29,
   "id": "7c488afa",
   "metadata": {},
   "outputs": [],
   "source": [
    "teams_raw['Team'] = teams_raw['team_raw']\n",
    "teams_raw['Team'][index_wroclaw] = 'Gwardia Wrocław'"
   ]
  },
  {
   "cell_type": "code",
   "execution_count": 41,
   "id": "58a409e4",
   "metadata": {},
   "outputs": [
    {
     "data": {
      "text/plain": [
       "0     Gwardia Wrocław\n",
       "40    Gwardia Wrocław\n",
       "59    Gwardia Wrocław\n",
       "Name: Team, dtype: object"
      ]
     },
     "execution_count": 41,
     "metadata": {},
     "output_type": "execute_result"
    }
   ],
   "source": [
    "teams_raw['Team'][index_wroclaw]"
   ]
  },
  {
   "cell_type": "code",
   "execution_count": 37,
   "id": "900a7bee",
   "metadata": {
    "scrolled": true
   },
   "outputs": [
    {
     "data": {
      "text/html": [
       "<div>\n",
       "<style scoped>\n",
       "    .dataframe tbody tr th:only-of-type {\n",
       "        vertical-align: middle;\n",
       "    }\n",
       "\n",
       "    .dataframe tbody tr th {\n",
       "        vertical-align: top;\n",
       "    }\n",
       "\n",
       "    .dataframe thead th {\n",
       "        text-align: right;\n",
       "    }\n",
       "</style>\n",
       "<table border=\"1\" class=\"dataframe\">\n",
       "  <thead>\n",
       "    <tr style=\"text-align: right;\">\n",
       "      <th></th>\n",
       "      <th>team_raw</th>\n",
       "      <th>Team</th>\n",
       "      <th>City</th>\n",
       "    </tr>\n",
       "  </thead>\n",
       "  <tbody>\n",
       "    <tr>\n",
       "      <th>0</th>\n",
       "      <td>1044 - GWARDIA WROCŁAW</td>\n",
       "      <td>Gwardia Wrocław</td>\n",
       "      <td>Wrocław</td>\n",
       "    </tr>\n",
       "    <tr>\n",
       "      <th>1</th>\n",
       "      <td>AKS RESOVIA RZESZÓW</td>\n",
       "      <td>AKS RESOVIA RZESZÓW</td>\n",
       "      <td>Na</td>\n",
       "    </tr>\n",
       "    <tr>\n",
       "      <th>2</th>\n",
       "      <td>Aluron CMC Warta Zawiercie</td>\n",
       "      <td>Aluron CMC Warta Zawiercie</td>\n",
       "      <td>Na</td>\n",
       "    </tr>\n",
       "    <tr>\n",
       "      <th>3</th>\n",
       "      <td>Aluron Virtu CMC Zawiercie</td>\n",
       "      <td>Aluron Virtu CMC Zawiercie</td>\n",
       "      <td>Na</td>\n",
       "    </tr>\n",
       "    <tr>\n",
       "      <th>4</th>\n",
       "      <td>Aluron Virtu Warta Zawiercie</td>\n",
       "      <td>Aluron Virtu Warta Zawiercie</td>\n",
       "      <td>Na</td>\n",
       "    </tr>\n",
       "    <tr>\n",
       "      <th>...</th>\n",
       "      <td>...</td>\n",
       "      <td>...</td>\n",
       "      <td>...</td>\n",
       "    </tr>\n",
       "    <tr>\n",
       "      <th>109</th>\n",
       "      <td>Wkręt-met AZS Częstochowa</td>\n",
       "      <td>Wkręt-met AZS Częstochowa</td>\n",
       "      <td>Na</td>\n",
       "    </tr>\n",
       "    <tr>\n",
       "      <th>110</th>\n",
       "      <td>ZAK SA KĘDZIERZYN-KOŹLE</td>\n",
       "      <td>ZAK SA KĘDZIERZYN-KOŹLE</td>\n",
       "      <td>Na</td>\n",
       "    </tr>\n",
       "    <tr>\n",
       "      <th>111</th>\n",
       "      <td>ZAKSA Kędzierzyn-Koźle</td>\n",
       "      <td>ZAKSA Kędzierzyn-Koźle</td>\n",
       "      <td>Na</td>\n",
       "    </tr>\n",
       "    <tr>\n",
       "      <th>112</th>\n",
       "      <td>Łuczniczka Bydgoszcz</td>\n",
       "      <td>Łuczniczka Bydgoszcz</td>\n",
       "      <td>Na</td>\n",
       "    </tr>\n",
       "    <tr>\n",
       "      <th>113</th>\n",
       "      <td>Ślepsk Malow Suwałki</td>\n",
       "      <td>Ślepsk Malow Suwałki</td>\n",
       "      <td>Na</td>\n",
       "    </tr>\n",
       "  </tbody>\n",
       "</table>\n",
       "<p>114 rows × 3 columns</p>\n",
       "</div>"
      ],
      "text/plain": [
       "                         team_raw                          Team     City\n",
       "0          1044 - GWARDIA WROCŁAW               Gwardia Wrocław  Wrocław\n",
       "1             AKS RESOVIA RZESZÓW           AKS RESOVIA RZESZÓW       Na\n",
       "2      Aluron CMC Warta Zawiercie    Aluron CMC Warta Zawiercie       Na\n",
       "3      Aluron Virtu CMC Zawiercie    Aluron Virtu CMC Zawiercie       Na\n",
       "4    Aluron Virtu Warta Zawiercie  Aluron Virtu Warta Zawiercie       Na\n",
       "..                            ...                           ...      ...\n",
       "109     Wkręt-met AZS Częstochowa     Wkręt-met AZS Częstochowa       Na\n",
       "110       ZAK SA KĘDZIERZYN-KOŹLE       ZAK SA KĘDZIERZYN-KOŹLE       Na\n",
       "111        ZAKSA Kędzierzyn-Koźle        ZAKSA Kędzierzyn-Koźle       Na\n",
       "112          Łuczniczka Bydgoszcz          Łuczniczka Bydgoszcz       Na\n",
       "113          Ślepsk Malow Suwałki          Ślepsk Malow Suwałki       Na\n",
       "\n",
       "[114 rows x 3 columns]"
      ]
     },
     "execution_count": 37,
     "metadata": {},
     "output_type": "execute_result"
    }
   ],
   "source": [
    "teams_raw"
   ]
  },
  {
   "cell_type": "code",
   "execution_count": 35,
   "id": "22d30dda",
   "metadata": {},
   "outputs": [],
   "source": [
    "teams_raw['City'][index_wroclaw] = 'Wrocław'"
   ]
  },
  {
   "cell_type": "markdown",
   "id": "c329b320",
   "metadata": {},
   "source": [
    "## 2 - RZESZÓW"
   ]
  },
  {
   "cell_type": "code",
   "execution_count": 61,
   "id": "01783dd7",
   "metadata": {},
   "outputs": [
    {
     "data": {
      "text/plain": [
       "1        aks resovia rzeszów\n",
       "5             asseco resovia\n",
       "6     asseco resovia rzeszów\n",
       "7      asseco resovia s.s.a.\n",
       "94       resovia ssa rzeszów\n",
       "Name: team, dtype: object"
      ]
     },
     "execution_count": 61,
     "metadata": {},
     "output_type": "execute_result"
    }
   ],
   "source": [
    "teams_raw_lower[(teams_raw_lower.str.contains('resovia')) | (teams_raw_lower.str.contains('rzeszów')) \n",
    "                | (teams_raw_lower.str.contains('asseco')) ]"
   ]
  },
  {
   "cell_type": "code",
   "execution_count": 62,
   "id": "1429f12b",
   "metadata": {},
   "outputs": [],
   "source": [
    "index_rzesow = teams_raw_lower[(teams_raw_lower.str.contains('resovia')) | (teams_raw_lower.str.contains('rzeszów')) \n",
    "                | (teams_raw_lower.str.contains('asseco')) ].index"
   ]
  },
  {
   "cell_type": "code",
   "execution_count": 63,
   "id": "f6d417c1",
   "metadata": {},
   "outputs": [
    {
     "data": {
      "text/plain": [
       "Index([1, 5, 6, 7, 94], dtype='int64')"
      ]
     },
     "execution_count": 63,
     "metadata": {},
     "output_type": "execute_result"
    }
   ],
   "source": [
    "index_rzesow"
   ]
  },
  {
   "cell_type": "code",
   "execution_count": 81,
   "id": "d0d4dfd1",
   "metadata": {},
   "outputs": [
    {
     "data": {
      "text/plain": [
       "1     Resovia Rzeszów\n",
       "5     Resovia Rzeszów\n",
       "6     Resovia Rzeszów\n",
       "7     Resovia Rzeszów\n",
       "94    Resovia Rzeszów\n",
       "Name: Team, dtype: object"
      ]
     },
     "execution_count": 81,
     "metadata": {},
     "output_type": "execute_result"
    }
   ],
   "source": [
    "teams_raw['Team'][index_rzesow] = 'Resovia Rzeszów'"
   ]
  },
  {
   "cell_type": "code",
   "execution_count": 82,
   "id": "4e0b19ea",
   "metadata": {},
   "outputs": [],
   "source": [
    "teams_raw['City'][index_rzesow] = 'Rzeszów'"
   ]
  },
  {
   "cell_type": "code",
   "execution_count": 83,
   "id": "e2213d0c",
   "metadata": {},
   "outputs": [
    {
     "data": {
      "text/html": [
       "<div>\n",
       "<style scoped>\n",
       "    .dataframe tbody tr th:only-of-type {\n",
       "        vertical-align: middle;\n",
       "    }\n",
       "\n",
       "    .dataframe tbody tr th {\n",
       "        vertical-align: top;\n",
       "    }\n",
       "\n",
       "    .dataframe thead th {\n",
       "        text-align: right;\n",
       "    }\n",
       "</style>\n",
       "<table border=\"1\" class=\"dataframe\">\n",
       "  <thead>\n",
       "    <tr style=\"text-align: right;\">\n",
       "      <th></th>\n",
       "      <th>team_raw</th>\n",
       "      <th>Team</th>\n",
       "      <th>City</th>\n",
       "    </tr>\n",
       "  </thead>\n",
       "  <tbody>\n",
       "    <tr>\n",
       "      <th>1</th>\n",
       "      <td>AKS RESOVIA RZESZÓW</td>\n",
       "      <td>Resovia Rzeszów</td>\n",
       "      <td>Rzeszów</td>\n",
       "    </tr>\n",
       "    <tr>\n",
       "      <th>5</th>\n",
       "      <td>Asseco Resovia</td>\n",
       "      <td>Resovia Rzeszów</td>\n",
       "      <td>Rzeszów</td>\n",
       "    </tr>\n",
       "    <tr>\n",
       "      <th>6</th>\n",
       "      <td>Asseco Resovia Rzeszów</td>\n",
       "      <td>Resovia Rzeszów</td>\n",
       "      <td>Rzeszów</td>\n",
       "    </tr>\n",
       "    <tr>\n",
       "      <th>7</th>\n",
       "      <td>ASSECO RESOVIA S.S.A.</td>\n",
       "      <td>Resovia Rzeszów</td>\n",
       "      <td>Rzeszów</td>\n",
       "    </tr>\n",
       "    <tr>\n",
       "      <th>94</th>\n",
       "      <td>RESOVIA SSA RZESZÓW</td>\n",
       "      <td>Resovia Rzeszów</td>\n",
       "      <td>Rzeszów</td>\n",
       "    </tr>\n",
       "  </tbody>\n",
       "</table>\n",
       "</div>"
      ],
      "text/plain": [
       "                  team_raw             Team     City\n",
       "1      AKS RESOVIA RZESZÓW  Resovia Rzeszów  Rzeszów\n",
       "5           Asseco Resovia  Resovia Rzeszów  Rzeszów\n",
       "6   Asseco Resovia Rzeszów  Resovia Rzeszów  Rzeszów\n",
       "7    ASSECO RESOVIA S.S.A.  Resovia Rzeszów  Rzeszów\n",
       "94     RESOVIA SSA RZESZÓW  Resovia Rzeszów  Rzeszów"
      ]
     },
     "execution_count": 83,
     "metadata": {},
     "output_type": "execute_result"
    }
   ],
   "source": [
    "teams_raw.iloc[index_rzesow]"
   ]
  },
  {
   "cell_type": "markdown",
   "id": "79132a10",
   "metadata": {},
   "source": [
    "## 3 - Zawiercie"
   ]
  },
  {
   "cell_type": "code",
   "execution_count": 89,
   "id": "eb6b5542",
   "metadata": {},
   "outputs": [
    {
     "data": {
      "text/plain": [
       "2      aluron cmc warta zawiercie\n",
       "3      aluron virtu cmc zawiercie\n",
       "4    aluron virtu warta zawiercie\n",
       "Name: team, dtype: object"
      ]
     },
     "execution_count": 89,
     "metadata": {},
     "output_type": "execute_result"
    }
   ],
   "source": [
    "teams_raw_lower[(teams_raw_lower.str.contains('zawiercie')) | (teams_raw_lower.str.contains('aluron')) |\n",
    "               (teams_raw_lower.str.contains('warta')) | (teams_raw_lower.str.contains('virtu'))\n",
    "               | (teams_raw_lower.str.contains('cmc'))]"
   ]
  },
  {
   "cell_type": "code",
   "execution_count": 90,
   "id": "dbafc600",
   "metadata": {},
   "outputs": [],
   "source": [
    "index_zawiercie = teams_raw_lower[(teams_raw_lower.str.contains('zawiercie')) | (teams_raw_lower.str.contains('aluron')) |\n",
    "               (teams_raw_lower.str.contains('warta')) | (teams_raw_lower.str.contains('virtu'))\n",
    "               | (teams_raw_lower.str.contains('cmc'))].index"
   ]
  },
  {
   "cell_type": "code",
   "execution_count": 94,
   "id": "9dd3ea35",
   "metadata": {},
   "outputs": [],
   "source": [
    "teams_raw['Team'][index_zawiercie] = 'Warta Zawiercie'\n",
    "teams_raw['City'][index_zawiercie] = 'Zawiercie'"
   ]
  },
  {
   "cell_type": "code",
   "execution_count": 95,
   "id": "ddd9c34e",
   "metadata": {},
   "outputs": [
    {
     "data": {
      "text/html": [
       "<div>\n",
       "<style scoped>\n",
       "    .dataframe tbody tr th:only-of-type {\n",
       "        vertical-align: middle;\n",
       "    }\n",
       "\n",
       "    .dataframe tbody tr th {\n",
       "        vertical-align: top;\n",
       "    }\n",
       "\n",
       "    .dataframe thead th {\n",
       "        text-align: right;\n",
       "    }\n",
       "</style>\n",
       "<table border=\"1\" class=\"dataframe\">\n",
       "  <thead>\n",
       "    <tr style=\"text-align: right;\">\n",
       "      <th></th>\n",
       "      <th>team_raw</th>\n",
       "      <th>Team</th>\n",
       "      <th>City</th>\n",
       "    </tr>\n",
       "  </thead>\n",
       "  <tbody>\n",
       "    <tr>\n",
       "      <th>2</th>\n",
       "      <td>Aluron CMC Warta Zawiercie</td>\n",
       "      <td>Warta Zawiercie</td>\n",
       "      <td>Zawiercie</td>\n",
       "    </tr>\n",
       "    <tr>\n",
       "      <th>3</th>\n",
       "      <td>Aluron Virtu CMC Zawiercie</td>\n",
       "      <td>Warta Zawiercie</td>\n",
       "      <td>Zawiercie</td>\n",
       "    </tr>\n",
       "    <tr>\n",
       "      <th>4</th>\n",
       "      <td>Aluron Virtu Warta Zawiercie</td>\n",
       "      <td>Warta Zawiercie</td>\n",
       "      <td>Zawiercie</td>\n",
       "    </tr>\n",
       "  </tbody>\n",
       "</table>\n",
       "</div>"
      ],
      "text/plain": [
       "                       team_raw             Team       City\n",
       "2    Aluron CMC Warta Zawiercie  Warta Zawiercie  Zawiercie\n",
       "3    Aluron Virtu CMC Zawiercie  Warta Zawiercie  Zawiercie\n",
       "4  Aluron Virtu Warta Zawiercie  Warta Zawiercie  Zawiercie"
      ]
     },
     "execution_count": 95,
     "metadata": {},
     "output_type": "execute_result"
    }
   ],
   "source": [
    "teams_raw.iloc[index_zawiercie]"
   ]
  },
  {
   "cell_type": "markdown",
   "id": "e84d30b6",
   "metadata": {},
   "source": [
    "## 4 - Częstochowa"
   ]
  },
  {
   "cell_type": "code",
   "execution_count": 98,
   "id": "9352abbb",
   "metadata": {},
   "outputs": [
    {
     "data": {
      "text/plain": [
       "8                             azs częstochowa\n",
       "27                domex tytan azs częstochowa\n",
       "32         exact systems hemarpol częstochowa\n",
       "34      galaxia jurajska azs bank częstochowa\n",
       "35     galaxia pamapol kaffee azs częstochowa\n",
       "36       galaxia starter bank częstochowa azs\n",
       "57                     ks azs częstochowa ssa\n",
       "83                    pamapol azs częstochowa\n",
       "84              pamapol domex azs częstochowa\n",
       "98          steam hemarpol norwid częstochowa\n",
       "105                     tytan azs częstochowa\n",
       "108         wkręt - met domex azs częstochowa\n",
       "109                 wkręt-met azs częstochowa\n",
       "Name: team, dtype: object"
      ]
     },
     "execution_count": 98,
     "metadata": {},
     "output_type": "execute_result"
    }
   ],
   "source": [
    "teams_raw_lower[(teams_raw_lower.str.contains('częstochowa')) | (teams_raw_lower.str.contains('norwid')) | \n",
    "               (teams_raw_lower.str.contains('hermarpol'))]"
   ]
  },
  {
   "cell_type": "markdown",
   "id": "3d1d8a11",
   "metadata": {},
   "source": [
    "Tras una breve investigación, llegamos a la conclusión que hay dos equipos en Częstochowa:\n",
    "- AZS Częstochowa: club histórico desaparecido\n",
    "- Norwid Częstochowa"
   ]
  },
  {
   "cell_type": "code",
   "execution_count": 99,
   "id": "cc2a7c11",
   "metadata": {},
   "outputs": [],
   "source": [
    "# indices del azs częstochowa\n",
    "index_azs_czestochowa = teams_raw_lower[(teams_raw_lower.str.contains('azs częstochowa'))\n",
    "                                        | (teams_raw_lower.str.contains('bank częstochowa'))].index"
   ]
  },
  {
   "cell_type": "code",
   "execution_count": 103,
   "id": "945ac0da",
   "metadata": {},
   "outputs": [],
   "source": [
    "teams_raw['Team'][index_azs_czestochowa] = 'AZS Częstochowa'\n",
    "teams_raw['City'][index_azs_czestochowa] = 'Częstochowa'"
   ]
  },
  {
   "cell_type": "code",
   "execution_count": 104,
   "id": "0f39f3c9",
   "metadata": {},
   "outputs": [
    {
     "data": {
      "text/html": [
       "<div>\n",
       "<style scoped>\n",
       "    .dataframe tbody tr th:only-of-type {\n",
       "        vertical-align: middle;\n",
       "    }\n",
       "\n",
       "    .dataframe tbody tr th {\n",
       "        vertical-align: top;\n",
       "    }\n",
       "\n",
       "    .dataframe thead th {\n",
       "        text-align: right;\n",
       "    }\n",
       "</style>\n",
       "<table border=\"1\" class=\"dataframe\">\n",
       "  <thead>\n",
       "    <tr style=\"text-align: right;\">\n",
       "      <th></th>\n",
       "      <th>team_raw</th>\n",
       "      <th>Team</th>\n",
       "      <th>City</th>\n",
       "    </tr>\n",
       "  </thead>\n",
       "  <tbody>\n",
       "    <tr>\n",
       "      <th>8</th>\n",
       "      <td>AZS Częstochowa</td>\n",
       "      <td>AZS Częstochowa</td>\n",
       "      <td>Częstochowa</td>\n",
       "    </tr>\n",
       "    <tr>\n",
       "      <th>27</th>\n",
       "      <td>Domex Tytan AZS Częstochowa</td>\n",
       "      <td>AZS Częstochowa</td>\n",
       "      <td>Częstochowa</td>\n",
       "    </tr>\n",
       "    <tr>\n",
       "      <th>34</th>\n",
       "      <td>GALAXIA JURAJSKA AZS BANK CZĘSTOCHOWA</td>\n",
       "      <td>AZS Częstochowa</td>\n",
       "      <td>Częstochowa</td>\n",
       "    </tr>\n",
       "    <tr>\n",
       "      <th>35</th>\n",
       "      <td>GALAXIA PAMAPOL KAFFEE AZS CZĘSTOCHOWA</td>\n",
       "      <td>AZS Częstochowa</td>\n",
       "      <td>Częstochowa</td>\n",
       "    </tr>\n",
       "    <tr>\n",
       "      <th>36</th>\n",
       "      <td>GALAXIA STARTER BANK CZĘSTOCHOWA AZS</td>\n",
       "      <td>AZS Częstochowa</td>\n",
       "      <td>Częstochowa</td>\n",
       "    </tr>\n",
       "    <tr>\n",
       "      <th>57</th>\n",
       "      <td>KS AZS CZĘSTOCHOWA SSA</td>\n",
       "      <td>AZS Częstochowa</td>\n",
       "      <td>Częstochowa</td>\n",
       "    </tr>\n",
       "    <tr>\n",
       "      <th>83</th>\n",
       "      <td>PAMAPOL AZS CZĘSTOCHOWA</td>\n",
       "      <td>AZS Częstochowa</td>\n",
       "      <td>Częstochowa</td>\n",
       "    </tr>\n",
       "    <tr>\n",
       "      <th>84</th>\n",
       "      <td>PAMAPOL DOMEX AZS CZĘSTOCHOWA</td>\n",
       "      <td>AZS Częstochowa</td>\n",
       "      <td>Częstochowa</td>\n",
       "    </tr>\n",
       "    <tr>\n",
       "      <th>105</th>\n",
       "      <td>Tytan AZS Częstochowa</td>\n",
       "      <td>AZS Częstochowa</td>\n",
       "      <td>Częstochowa</td>\n",
       "    </tr>\n",
       "    <tr>\n",
       "      <th>108</th>\n",
       "      <td>WKRĘT - MET DOMEX AZS CZĘSTOCHOWA</td>\n",
       "      <td>AZS Częstochowa</td>\n",
       "      <td>Częstochowa</td>\n",
       "    </tr>\n",
       "    <tr>\n",
       "      <th>109</th>\n",
       "      <td>Wkręt-met AZS Częstochowa</td>\n",
       "      <td>AZS Częstochowa</td>\n",
       "      <td>Częstochowa</td>\n",
       "    </tr>\n",
       "  </tbody>\n",
       "</table>\n",
       "</div>"
      ],
      "text/plain": [
       "                                   team_raw             Team         City\n",
       "8                           AZS Częstochowa  AZS Częstochowa  Częstochowa\n",
       "27              Domex Tytan AZS Częstochowa  AZS Częstochowa  Częstochowa\n",
       "34    GALAXIA JURAJSKA AZS BANK CZĘSTOCHOWA  AZS Częstochowa  Częstochowa\n",
       "35   GALAXIA PAMAPOL KAFFEE AZS CZĘSTOCHOWA  AZS Częstochowa  Częstochowa\n",
       "36     GALAXIA STARTER BANK CZĘSTOCHOWA AZS  AZS Częstochowa  Częstochowa\n",
       "57                   KS AZS CZĘSTOCHOWA SSA  AZS Częstochowa  Częstochowa\n",
       "83                  PAMAPOL AZS CZĘSTOCHOWA  AZS Częstochowa  Częstochowa\n",
       "84            PAMAPOL DOMEX AZS CZĘSTOCHOWA  AZS Częstochowa  Częstochowa\n",
       "105                   Tytan AZS Częstochowa  AZS Częstochowa  Częstochowa\n",
       "108       WKRĘT - MET DOMEX AZS CZĘSTOCHOWA  AZS Częstochowa  Częstochowa\n",
       "109               Wkręt-met AZS Częstochowa  AZS Częstochowa  Częstochowa"
      ]
     },
     "execution_count": 104,
     "metadata": {},
     "output_type": "execute_result"
    }
   ],
   "source": [
    "teams_raw.iloc[index_azs_czestochowa]"
   ]
  },
  {
   "cell_type": "code",
   "execution_count": 105,
   "id": "2585fda1",
   "metadata": {},
   "outputs": [],
   "source": [
    "# Indices del Norwid Czestochowa\n",
    "index_norwid_czestochowa = teams_raw_lower[(teams_raw_lower.str.contains('hemarpol częstochowa'))\n",
    "                                        | (teams_raw_lower.str.contains('norwid częstochowa'))].index"
   ]
  },
  {
   "cell_type": "code",
   "execution_count": 107,
   "id": "15b38f64",
   "metadata": {},
   "outputs": [],
   "source": [
    "teams_raw['Team'][index_norwid_czestochowa] = 'Norwid Częstochowa'\n",
    "teams_raw['City'][index_norwid_czestochowa] = 'Częstochowa'"
   ]
  },
  {
   "cell_type": "markdown",
   "id": "ff394b96",
   "metadata": {},
   "source": [
    "## 5 - Warszawa"
   ]
  },
  {
   "cell_type": "code",
   "execution_count": 112,
   "id": "2ee282c3",
   "metadata": {},
   "outputs": [
    {
     "data": {
      "text/plain": [
       "9                              azs politechnika warszawa\n",
       "10                           azs politechnika warszawska\n",
       "44         j.w. construction azs politechnika warszawska\n",
       "45     j.w. construction osram azs politechnika warsz...\n",
       "46     j.w.construction osram azs politechnika warsza...\n",
       "76                neckermann azs politechnika warszawska\n",
       "81                     onico azs politechnika warszawska\n",
       "82                                        onico warszawa\n",
       "88                                  pge projekt warszawa\n",
       "90                                      projekt warszawa\n",
       "106                          verva warszawa orlen paliwa\n",
       "Name: team, dtype: object"
      ]
     },
     "execution_count": 112,
     "metadata": {},
     "output_type": "execute_result"
    }
   ],
   "source": [
    "teams_raw_lower[(teams_raw_lower.str.contains('warszawa')) | (teams_raw_lower.str.contains('politechnika'))\n",
    "               | (teams_raw_lower.str.contains('warszawska'))]"
   ]
  },
  {
   "cell_type": "markdown",
   "id": "3d251ce1",
   "metadata": {},
   "source": [
    "Tras buscar información, llegamos a la conclusión que todos son el mismo equipo, que actualmente se llama PGE Projekt Warszawa"
   ]
  },
  {
   "cell_type": "code",
   "execution_count": 113,
   "id": "b413cce8",
   "metadata": {},
   "outputs": [],
   "source": [
    "index_warszawa = teams_raw_lower[(teams_raw_lower.str.contains('warszawa')) | (teams_raw_lower.str.contains('politechnika'))\n",
    "               | (teams_raw_lower.str.contains('warszawska'))].index"
   ]
  },
  {
   "cell_type": "code",
   "execution_count": 115,
   "id": "9ead5916",
   "metadata": {},
   "outputs": [],
   "source": [
    "teams_raw['Team'][index_warszawa] = 'PGE Projekt Warszawa'\n",
    "teams_raw['City'][index_warszawa] = 'Warszawa'"
   ]
  },
  {
   "cell_type": "code",
   "execution_count": 116,
   "id": "09eb66b0",
   "metadata": {},
   "outputs": [
    {
     "data": {
      "text/html": [
       "<div>\n",
       "<style scoped>\n",
       "    .dataframe tbody tr th:only-of-type {\n",
       "        vertical-align: middle;\n",
       "    }\n",
       "\n",
       "    .dataframe tbody tr th {\n",
       "        vertical-align: top;\n",
       "    }\n",
       "\n",
       "    .dataframe thead th {\n",
       "        text-align: right;\n",
       "    }\n",
       "</style>\n",
       "<table border=\"1\" class=\"dataframe\">\n",
       "  <thead>\n",
       "    <tr style=\"text-align: right;\">\n",
       "      <th></th>\n",
       "      <th>team_raw</th>\n",
       "      <th>Team</th>\n",
       "      <th>City</th>\n",
       "    </tr>\n",
       "  </thead>\n",
       "  <tbody>\n",
       "    <tr>\n",
       "      <th>9</th>\n",
       "      <td>AZS POLITECHNIKA WARSZAWA</td>\n",
       "      <td>PGE Projekt Warszawa</td>\n",
       "      <td>Warszawa</td>\n",
       "    </tr>\n",
       "    <tr>\n",
       "      <th>10</th>\n",
       "      <td>AZS Politechnika Warszawska</td>\n",
       "      <td>PGE Projekt Warszawa</td>\n",
       "      <td>Warszawa</td>\n",
       "    </tr>\n",
       "    <tr>\n",
       "      <th>44</th>\n",
       "      <td>J.W. CONSTRUCTION AZS POLITECHNIKA WARSZAWSKA</td>\n",
       "      <td>PGE Projekt Warszawa</td>\n",
       "      <td>Warszawa</td>\n",
       "    </tr>\n",
       "    <tr>\n",
       "      <th>45</th>\n",
       "      <td>J.W. CONSTRUCTION OSRAM AZS POLITECHNIKA WARSZ...</td>\n",
       "      <td>PGE Projekt Warszawa</td>\n",
       "      <td>Warszawa</td>\n",
       "    </tr>\n",
       "    <tr>\n",
       "      <th>46</th>\n",
       "      <td>J.W.Construction OSRAM AZS Politechnika Warsza...</td>\n",
       "      <td>PGE Projekt Warszawa</td>\n",
       "      <td>Warszawa</td>\n",
       "    </tr>\n",
       "    <tr>\n",
       "      <th>76</th>\n",
       "      <td>Neckermann AZS Politechnika Warszawska</td>\n",
       "      <td>PGE Projekt Warszawa</td>\n",
       "      <td>Warszawa</td>\n",
       "    </tr>\n",
       "    <tr>\n",
       "      <th>81</th>\n",
       "      <td>ONICO AZS Politechnika Warszawska</td>\n",
       "      <td>PGE Projekt Warszawa</td>\n",
       "      <td>Warszawa</td>\n",
       "    </tr>\n",
       "    <tr>\n",
       "      <th>82</th>\n",
       "      <td>ONICO Warszawa</td>\n",
       "      <td>PGE Projekt Warszawa</td>\n",
       "      <td>Warszawa</td>\n",
       "    </tr>\n",
       "    <tr>\n",
       "      <th>88</th>\n",
       "      <td>PGE Projekt Warszawa</td>\n",
       "      <td>PGE Projekt Warszawa</td>\n",
       "      <td>Warszawa</td>\n",
       "    </tr>\n",
       "    <tr>\n",
       "      <th>90</th>\n",
       "      <td>Projekt Warszawa</td>\n",
       "      <td>PGE Projekt Warszawa</td>\n",
       "      <td>Warszawa</td>\n",
       "    </tr>\n",
       "    <tr>\n",
       "      <th>106</th>\n",
       "      <td>VERVA Warszawa ORLEN Paliwa</td>\n",
       "      <td>PGE Projekt Warszawa</td>\n",
       "      <td>Warszawa</td>\n",
       "    </tr>\n",
       "  </tbody>\n",
       "</table>\n",
       "</div>"
      ],
      "text/plain": [
       "                                              team_raw                  Team  \\\n",
       "9                            AZS POLITECHNIKA WARSZAWA  PGE Projekt Warszawa   \n",
       "10                         AZS Politechnika Warszawska  PGE Projekt Warszawa   \n",
       "44       J.W. CONSTRUCTION AZS POLITECHNIKA WARSZAWSKA  PGE Projekt Warszawa   \n",
       "45   J.W. CONSTRUCTION OSRAM AZS POLITECHNIKA WARSZ...  PGE Projekt Warszawa   \n",
       "46   J.W.Construction OSRAM AZS Politechnika Warsza...  PGE Projekt Warszawa   \n",
       "76              Neckermann AZS Politechnika Warszawska  PGE Projekt Warszawa   \n",
       "81                   ONICO AZS Politechnika Warszawska  PGE Projekt Warszawa   \n",
       "82                                      ONICO Warszawa  PGE Projekt Warszawa   \n",
       "88                                PGE Projekt Warszawa  PGE Projekt Warszawa   \n",
       "90                                    Projekt Warszawa  PGE Projekt Warszawa   \n",
       "106                        VERVA Warszawa ORLEN Paliwa  PGE Projekt Warszawa   \n",
       "\n",
       "         City  \n",
       "9    Warszawa  \n",
       "10   Warszawa  \n",
       "44   Warszawa  \n",
       "45   Warszawa  \n",
       "46   Warszawa  \n",
       "76   Warszawa  \n",
       "81   Warszawa  \n",
       "82   Warszawa  \n",
       "88   Warszawa  \n",
       "90   Warszawa  \n",
       "106  Warszawa  "
      ]
     },
     "execution_count": 116,
     "metadata": {},
     "output_type": "execute_result"
    }
   ],
   "source": [
    "teams_raw.iloc[index_warszawa]"
   ]
  },
  {
   "cell_type": "markdown",
   "id": "623b228d",
   "metadata": {},
   "source": [
    "## 6 -  Nysa"
   ]
  },
  {
   "cell_type": "code",
   "execution_count": 120,
   "id": "282f14f6",
   "metadata": {},
   "outputs": [
    {
     "data": {
      "text/plain": [
       "11      azs pwsz nysa\n",
       "58    ks citroen nysa\n",
       "65            ks nysa\n",
       "77       nks nto nysa\n",
       "78           nks nysa\n",
       "91      psg stal nysa\n",
       "97          stal nysa\n",
       "Name: team, dtype: object"
      ]
     },
     "execution_count": 120,
     "metadata": {},
     "output_type": "execute_result"
    }
   ],
   "source": [
    "teams_raw_lower[(teams_raw_lower.str.contains('nysa'))]"
   ]
  },
  {
   "cell_type": "code",
   "execution_count": 121,
   "id": "2246ec66",
   "metadata": {},
   "outputs": [],
   "source": [
    "index_nysa = teams_raw_lower[(teams_raw_lower.str.contains('nysa'))].index"
   ]
  },
  {
   "cell_type": "code",
   "execution_count": 122,
   "id": "517c5d3a",
   "metadata": {},
   "outputs": [],
   "source": [
    "teams_raw['Team'][index_nysa] = 'Stal Nysa'\n",
    "teams_raw['City'][index_nysa] = 'Nysa'"
   ]
  },
  {
   "cell_type": "code",
   "execution_count": 123,
   "id": "612a8d57",
   "metadata": {},
   "outputs": [
    {
     "data": {
      "text/html": [
       "<div>\n",
       "<style scoped>\n",
       "    .dataframe tbody tr th:only-of-type {\n",
       "        vertical-align: middle;\n",
       "    }\n",
       "\n",
       "    .dataframe tbody tr th {\n",
       "        vertical-align: top;\n",
       "    }\n",
       "\n",
       "    .dataframe thead th {\n",
       "        text-align: right;\n",
       "    }\n",
       "</style>\n",
       "<table border=\"1\" class=\"dataframe\">\n",
       "  <thead>\n",
       "    <tr style=\"text-align: right;\">\n",
       "      <th></th>\n",
       "      <th>team_raw</th>\n",
       "      <th>Team</th>\n",
       "      <th>City</th>\n",
       "    </tr>\n",
       "  </thead>\n",
       "  <tbody>\n",
       "    <tr>\n",
       "      <th>11</th>\n",
       "      <td>AZS PWSZ NYSA</td>\n",
       "      <td>Stal Nysa</td>\n",
       "      <td>Nysa</td>\n",
       "    </tr>\n",
       "    <tr>\n",
       "      <th>58</th>\n",
       "      <td>KS CITROEN NYSA</td>\n",
       "      <td>Stal Nysa</td>\n",
       "      <td>Nysa</td>\n",
       "    </tr>\n",
       "    <tr>\n",
       "      <th>65</th>\n",
       "      <td>KS NYSA</td>\n",
       "      <td>Stal Nysa</td>\n",
       "      <td>Nysa</td>\n",
       "    </tr>\n",
       "    <tr>\n",
       "      <th>77</th>\n",
       "      <td>NKS NTO NYSA</td>\n",
       "      <td>Stal Nysa</td>\n",
       "      <td>Nysa</td>\n",
       "    </tr>\n",
       "    <tr>\n",
       "      <th>78</th>\n",
       "      <td>NKS NYSA</td>\n",
       "      <td>Stal Nysa</td>\n",
       "      <td>Nysa</td>\n",
       "    </tr>\n",
       "    <tr>\n",
       "      <th>91</th>\n",
       "      <td>PSG Stal Nysa</td>\n",
       "      <td>Stal Nysa</td>\n",
       "      <td>Nysa</td>\n",
       "    </tr>\n",
       "    <tr>\n",
       "      <th>97</th>\n",
       "      <td>Stal Nysa</td>\n",
       "      <td>Stal Nysa</td>\n",
       "      <td>Nysa</td>\n",
       "    </tr>\n",
       "  </tbody>\n",
       "</table>\n",
       "</div>"
      ],
      "text/plain": [
       "           team_raw       Team  City\n",
       "11    AZS PWSZ NYSA  Stal Nysa  Nysa\n",
       "58  KS CITROEN NYSA  Stal Nysa  Nysa\n",
       "65          KS NYSA  Stal Nysa  Nysa\n",
       "77     NKS NTO NYSA  Stal Nysa  Nysa\n",
       "78         NKS NYSA  Stal Nysa  Nysa\n",
       "91    PSG Stal Nysa  Stal Nysa  Nysa\n",
       "97        Stal Nysa  Stal Nysa  Nysa"
      ]
     },
     "execution_count": 123,
     "metadata": {},
     "output_type": "execute_result"
    }
   ],
   "source": [
    "teams_raw.iloc[index_nysa]"
   ]
  },
  {
   "cell_type": "markdown",
   "id": "c467425f",
   "metadata": {},
   "source": [
    "## 7 - Olsztyn "
   ]
  },
  {
   "cell_type": "code",
   "execution_count": 124,
   "id": "7c44aa13",
   "metadata": {},
   "outputs": [
    {
     "data": {
      "text/plain": [
       "12             azs uwm olsztyn\n",
       "41        indykpol azs olsztyn\n",
       "42    indykpol azs uwm olsztyn\n",
       "66          ks pzu azs olsztyn\n",
       "71         mlekpol azs olsztyn\n",
       "92             pzu azs olsztyn\n",
       "Name: team, dtype: object"
      ]
     },
     "execution_count": 124,
     "metadata": {},
     "output_type": "execute_result"
    }
   ],
   "source": [
    "teams_raw_lower[(teams_raw_lower.str.contains('olsztyn'))]"
   ]
  },
  {
   "cell_type": "code",
   "execution_count": 125,
   "id": "3fb722da",
   "metadata": {},
   "outputs": [],
   "source": [
    "index_olsztyn = teams_raw_lower[(teams_raw_lower.str.contains('olsztyn'))].index"
   ]
  },
  {
   "cell_type": "code",
   "execution_count": 126,
   "id": "73e48c6d",
   "metadata": {},
   "outputs": [],
   "source": [
    "teams_raw['Team'][index_olsztyn] = 'AZS Olsztyn'\n",
    "teams_raw['City'][index_olsztyn] = 'Olsztyn'"
   ]
  },
  {
   "cell_type": "code",
   "execution_count": 127,
   "id": "f388c54a",
   "metadata": {},
   "outputs": [
    {
     "data": {
      "text/html": [
       "<div>\n",
       "<style scoped>\n",
       "    .dataframe tbody tr th:only-of-type {\n",
       "        vertical-align: middle;\n",
       "    }\n",
       "\n",
       "    .dataframe tbody tr th {\n",
       "        vertical-align: top;\n",
       "    }\n",
       "\n",
       "    .dataframe thead th {\n",
       "        text-align: right;\n",
       "    }\n",
       "</style>\n",
       "<table border=\"1\" class=\"dataframe\">\n",
       "  <thead>\n",
       "    <tr style=\"text-align: right;\">\n",
       "      <th></th>\n",
       "      <th>team_raw</th>\n",
       "      <th>Team</th>\n",
       "      <th>City</th>\n",
       "    </tr>\n",
       "  </thead>\n",
       "  <tbody>\n",
       "    <tr>\n",
       "      <th>12</th>\n",
       "      <td>AZS UWM Olsztyn</td>\n",
       "      <td>AZS Olsztyn</td>\n",
       "      <td>Olsztyn</td>\n",
       "    </tr>\n",
       "    <tr>\n",
       "      <th>41</th>\n",
       "      <td>Indykpol AZS Olsztyn</td>\n",
       "      <td>AZS Olsztyn</td>\n",
       "      <td>Olsztyn</td>\n",
       "    </tr>\n",
       "    <tr>\n",
       "      <th>42</th>\n",
       "      <td>Indykpol AZS UWM Olsztyn</td>\n",
       "      <td>AZS Olsztyn</td>\n",
       "      <td>Olsztyn</td>\n",
       "    </tr>\n",
       "    <tr>\n",
       "      <th>66</th>\n",
       "      <td>KS PZU AZS OLSZTYN</td>\n",
       "      <td>AZS Olsztyn</td>\n",
       "      <td>Olsztyn</td>\n",
       "    </tr>\n",
       "    <tr>\n",
       "      <th>71</th>\n",
       "      <td>MLEKPOL AZS OLSZTYN</td>\n",
       "      <td>AZS Olsztyn</td>\n",
       "      <td>Olsztyn</td>\n",
       "    </tr>\n",
       "    <tr>\n",
       "      <th>92</th>\n",
       "      <td>PZU AZS OLSZTYN</td>\n",
       "      <td>AZS Olsztyn</td>\n",
       "      <td>Olsztyn</td>\n",
       "    </tr>\n",
       "  </tbody>\n",
       "</table>\n",
       "</div>"
      ],
      "text/plain": [
       "                    team_raw         Team     City\n",
       "12           AZS UWM Olsztyn  AZS Olsztyn  Olsztyn\n",
       "41      Indykpol AZS Olsztyn  AZS Olsztyn  Olsztyn\n",
       "42  Indykpol AZS UWM Olsztyn  AZS Olsztyn  Olsztyn\n",
       "66        KS PZU AZS OLSZTYN  AZS Olsztyn  Olsztyn\n",
       "71       MLEKPOL AZS OLSZTYN  AZS Olsztyn  Olsztyn\n",
       "92           PZU AZS OLSZTYN  AZS Olsztyn  Olsztyn"
      ]
     },
     "execution_count": 127,
     "metadata": {},
     "output_type": "execute_result"
    }
   ],
   "source": [
    "teams_raw.iloc[index_olsztyn]"
   ]
  },
  {
   "cell_type": "markdown",
   "id": "5065fc14",
   "metadata": {},
   "source": [
    "## 8 -  Lwów\n",
    "A pesar de ser una ciudad ucraniana, desde 2022 juega en la Plus Liga polaca"
   ]
  },
  {
   "cell_type": "code",
   "execution_count": 130,
   "id": "66b9a14d",
   "metadata": {},
   "outputs": [
    {
     "data": {
      "text/plain": [
       "13    barkom każany lwów\n",
       "Name: team, dtype: object"
      ]
     },
     "execution_count": 130,
     "metadata": {},
     "output_type": "execute_result"
    }
   ],
   "source": [
    "teams_raw_lower[(teams_raw_lower.str.contains('lwów')) | (teams_raw_lower.str.contains('barkom'))\n",
    "               | (teams_raw_lower.str.contains('każany'))]"
   ]
  },
  {
   "cell_type": "code",
   "execution_count": 131,
   "id": "c40c7b1b",
   "metadata": {},
   "outputs": [],
   "source": [
    "index_lwow = teams_raw_lower[(teams_raw_lower.str.contains('lwów')) | (teams_raw_lower.str.contains('barkom'))\n",
    "               | (teams_raw_lower.str.contains('każany'))].index"
   ]
  },
  {
   "cell_type": "code",
   "execution_count": 132,
   "id": "997213f6",
   "metadata": {},
   "outputs": [],
   "source": [
    "teams_raw['Team'][index_lwow] = 'Barkom-Każany Lwów'\n",
    "teams_raw['City'][index_lwow] = 'Lwów'"
   ]
  },
  {
   "cell_type": "code",
   "execution_count": 133,
   "id": "ae4b4011",
   "metadata": {},
   "outputs": [
    {
     "data": {
      "text/html": [
       "<div>\n",
       "<style scoped>\n",
       "    .dataframe tbody tr th:only-of-type {\n",
       "        vertical-align: middle;\n",
       "    }\n",
       "\n",
       "    .dataframe tbody tr th {\n",
       "        vertical-align: top;\n",
       "    }\n",
       "\n",
       "    .dataframe thead th {\n",
       "        text-align: right;\n",
       "    }\n",
       "</style>\n",
       "<table border=\"1\" class=\"dataframe\">\n",
       "  <thead>\n",
       "    <tr style=\"text-align: right;\">\n",
       "      <th></th>\n",
       "      <th>team_raw</th>\n",
       "      <th>Team</th>\n",
       "      <th>City</th>\n",
       "    </tr>\n",
       "  </thead>\n",
       "  <tbody>\n",
       "    <tr>\n",
       "      <th>13</th>\n",
       "      <td>Barkom Każany Lwów</td>\n",
       "      <td>Barkom-Każany Lwów</td>\n",
       "      <td>Lwów</td>\n",
       "    </tr>\n",
       "  </tbody>\n",
       "</table>\n",
       "</div>"
      ],
      "text/plain": [
       "              team_raw                Team  City\n",
       "13  Barkom Każany Lwów  Barkom-Każany Lwów  Lwów"
      ]
     },
     "execution_count": 133,
     "metadata": {},
     "output_type": "execute_result"
    }
   ],
   "source": [
    "teams_raw.iloc[index_lwow]"
   ]
  },
  {
   "cell_type": "markdown",
   "id": "9219401a",
   "metadata": {},
   "source": [
    "## 9 - Bielsko-Biała"
   ]
  },
  {
   "cell_type": "code",
   "execution_count": 134,
   "id": "89e154d3",
   "metadata": {},
   "outputs": [
    {
     "data": {
      "text/plain": [
       "14                      bbts bielsko-biała\n",
       "15    bbts siatkarz original bielsko-biała\n",
       "Name: team, dtype: object"
      ]
     },
     "execution_count": 134,
     "metadata": {},
     "output_type": "execute_result"
    }
   ],
   "source": [
    "teams_raw_lower[(teams_raw_lower.str.contains('bbts')) | (teams_raw_lower.str.contains('bielsko'))\n",
    "               | (teams_raw_lower.str.contains('biała'))]"
   ]
  },
  {
   "cell_type": "code",
   "execution_count": 135,
   "id": "8e453eed",
   "metadata": {},
   "outputs": [],
   "source": [
    "index_bielsko_biala = teams_raw_lower[(teams_raw_lower.str.contains('bbts')) | (teams_raw_lower.str.contains('bielsko'))\n",
    "               | (teams_raw_lower.str.contains('biała'))].index"
   ]
  },
  {
   "cell_type": "code",
   "execution_count": 136,
   "id": "8efc7533",
   "metadata": {},
   "outputs": [],
   "source": [
    "teams_raw['Team'][index_bielsko_biala] = 'BBTS Bielsko-Biała'\n",
    "teams_raw['City'][index_bielsko_biala] = 'Bielsko-Biała'"
   ]
  },
  {
   "cell_type": "code",
   "execution_count": 137,
   "id": "87532eb5",
   "metadata": {},
   "outputs": [
    {
     "data": {
      "text/html": [
       "<div>\n",
       "<style scoped>\n",
       "    .dataframe tbody tr th:only-of-type {\n",
       "        vertical-align: middle;\n",
       "    }\n",
       "\n",
       "    .dataframe tbody tr th {\n",
       "        vertical-align: top;\n",
       "    }\n",
       "\n",
       "    .dataframe thead th {\n",
       "        text-align: right;\n",
       "    }\n",
       "</style>\n",
       "<table border=\"1\" class=\"dataframe\">\n",
       "  <thead>\n",
       "    <tr style=\"text-align: right;\">\n",
       "      <th></th>\n",
       "      <th>team_raw</th>\n",
       "      <th>Team</th>\n",
       "      <th>City</th>\n",
       "    </tr>\n",
       "  </thead>\n",
       "  <tbody>\n",
       "    <tr>\n",
       "      <th>14</th>\n",
       "      <td>BBTS Bielsko-Biała</td>\n",
       "      <td>BBTS Bielsko-Biała</td>\n",
       "      <td>Bielsko-Biała</td>\n",
       "    </tr>\n",
       "    <tr>\n",
       "      <th>15</th>\n",
       "      <td>BBTS SIATKARZ ORIGINAL BIELSKO-BIAŁA</td>\n",
       "      <td>BBTS Bielsko-Biała</td>\n",
       "      <td>Bielsko-Biała</td>\n",
       "    </tr>\n",
       "  </tbody>\n",
       "</table>\n",
       "</div>"
      ],
      "text/plain": [
       "                                team_raw                Team           City\n",
       "14                    BBTS Bielsko-Biała  BBTS Bielsko-Biała  Bielsko-Biała\n",
       "15  BBTS SIATKARZ ORIGINAL BIELSKO-BIAŁA  BBTS Bielsko-Biała  Bielsko-Biała"
      ]
     },
     "execution_count": 137,
     "metadata": {},
     "output_type": "execute_result"
    }
   ],
   "source": [
    "teams_raw.iloc[index_bielsko_biala]"
   ]
  },
  {
   "cell_type": "markdown",
   "id": "1525bf78",
   "metadata": {},
   "source": [
    "## 10 - Bydgoszcz"
   ]
  },
  {
   "cell_type": "code",
   "execution_count": 138,
   "id": "219dc324",
   "metadata": {},
   "outputs": [
    {
     "data": {
      "text/plain": [
       "16         bks visła bydgoszcz\n",
       "17     bksch delecta bydgoszcz\n",
       "22            chemik bydgoszcz\n",
       "26           delecta bydgoszcz\n",
       "102         transfer bydgoszcz\n",
       "112       łuczniczka bydgoszcz\n",
       "Name: team, dtype: object"
      ]
     },
     "execution_count": 138,
     "metadata": {},
     "output_type": "execute_result"
    }
   ],
   "source": [
    "teams_raw_lower[(teams_raw_lower.str.contains('bydgoszcz')) | (teams_raw_lower.str.contains('visła'))\n",
    "               | (teams_raw_lower.str.contains('BKS'))]"
   ]
  },
  {
   "cell_type": "code",
   "execution_count": 139,
   "id": "7ebbbf97",
   "metadata": {},
   "outputs": [],
   "source": [
    "index_bydgoszcz = teams_raw_lower[(teams_raw_lower.str.contains('bydgoszcz')) | (teams_raw_lower.str.contains('visła'))\n",
    "               | (teams_raw_lower.str.contains('BKS'))].index"
   ]
  },
  {
   "cell_type": "code",
   "execution_count": 140,
   "id": "78c3a4ec",
   "metadata": {},
   "outputs": [],
   "source": [
    "teams_raw['Team'][index_bydgoszcz] = 'BKS Visła Bydgoszcz'\n",
    "teams_raw['City'][index_bydgoszcz] = 'Bydgoszcz'"
   ]
  },
  {
   "cell_type": "code",
   "execution_count": 141,
   "id": "a0b9ac2a",
   "metadata": {},
   "outputs": [
    {
     "data": {
      "text/html": [
       "<div>\n",
       "<style scoped>\n",
       "    .dataframe tbody tr th:only-of-type {\n",
       "        vertical-align: middle;\n",
       "    }\n",
       "\n",
       "    .dataframe tbody tr th {\n",
       "        vertical-align: top;\n",
       "    }\n",
       "\n",
       "    .dataframe thead th {\n",
       "        text-align: right;\n",
       "    }\n",
       "</style>\n",
       "<table border=\"1\" class=\"dataframe\">\n",
       "  <thead>\n",
       "    <tr style=\"text-align: right;\">\n",
       "      <th></th>\n",
       "      <th>team_raw</th>\n",
       "      <th>Team</th>\n",
       "      <th>City</th>\n",
       "    </tr>\n",
       "  </thead>\n",
       "  <tbody>\n",
       "    <tr>\n",
       "      <th>16</th>\n",
       "      <td>BKS Visła Bydgoszcz</td>\n",
       "      <td>BKS Visła Bydgoszcz</td>\n",
       "      <td>Bydgoszcz</td>\n",
       "    </tr>\n",
       "    <tr>\n",
       "      <th>17</th>\n",
       "      <td>BKSCh Delecta Bydgoszcz</td>\n",
       "      <td>BKS Visła Bydgoszcz</td>\n",
       "      <td>Bydgoszcz</td>\n",
       "    </tr>\n",
       "    <tr>\n",
       "      <th>22</th>\n",
       "      <td>Chemik Bydgoszcz</td>\n",
       "      <td>BKS Visła Bydgoszcz</td>\n",
       "      <td>Bydgoszcz</td>\n",
       "    </tr>\n",
       "    <tr>\n",
       "      <th>26</th>\n",
       "      <td>Delecta Bydgoszcz</td>\n",
       "      <td>BKS Visła Bydgoszcz</td>\n",
       "      <td>Bydgoszcz</td>\n",
       "    </tr>\n",
       "    <tr>\n",
       "      <th>102</th>\n",
       "      <td>Transfer Bydgoszcz</td>\n",
       "      <td>BKS Visła Bydgoszcz</td>\n",
       "      <td>Bydgoszcz</td>\n",
       "    </tr>\n",
       "    <tr>\n",
       "      <th>112</th>\n",
       "      <td>Łuczniczka Bydgoszcz</td>\n",
       "      <td>BKS Visła Bydgoszcz</td>\n",
       "      <td>Bydgoszcz</td>\n",
       "    </tr>\n",
       "  </tbody>\n",
       "</table>\n",
       "</div>"
      ],
      "text/plain": [
       "                    team_raw                 Team       City\n",
       "16       BKS Visła Bydgoszcz  BKS Visła Bydgoszcz  Bydgoszcz\n",
       "17   BKSCh Delecta Bydgoszcz  BKS Visła Bydgoszcz  Bydgoszcz\n",
       "22          Chemik Bydgoszcz  BKS Visła Bydgoszcz  Bydgoszcz\n",
       "26         Delecta Bydgoszcz  BKS Visła Bydgoszcz  Bydgoszcz\n",
       "102       Transfer Bydgoszcz  BKS Visła Bydgoszcz  Bydgoszcz\n",
       "112     Łuczniczka Bydgoszcz  BKS Visła Bydgoszcz  Bydgoszcz"
      ]
     },
     "execution_count": 141,
     "metadata": {},
     "output_type": "execute_result"
    }
   ],
   "source": [
    "teams_raw.iloc[index_bydgoszcz]"
   ]
  },
  {
   "cell_type": "markdown",
   "id": "30fbfaf8",
   "metadata": {},
   "source": [
    "## 11 - Lublin"
   ]
  },
  {
   "cell_type": "code",
   "execution_count": 142,
   "id": "2177c11c",
   "metadata": {},
   "outputs": [
    {
     "data": {
      "text/plain": [
       "18    bogdanka luk lublin\n",
       "68             luk lublin\n",
       "Name: team, dtype: object"
      ]
     },
     "execution_count": 142,
     "metadata": {},
     "output_type": "execute_result"
    }
   ],
   "source": [
    "teams_raw_lower[(teams_raw_lower.str.contains('lublin')) | (teams_raw_lower.str.contains('luk'))\n",
    "               | (teams_raw_lower.str.contains('bogdanka'))]"
   ]
  },
  {
   "cell_type": "code",
   "execution_count": 143,
   "id": "f2b1139e",
   "metadata": {},
   "outputs": [],
   "source": [
    "index_lublin = teams_raw_lower[(teams_raw_lower.str.contains('lublin')) | (teams_raw_lower.str.contains('luk'))\n",
    "               | (teams_raw_lower.str.contains('bogdanka'))].index"
   ]
  },
  {
   "cell_type": "code",
   "execution_count": 144,
   "id": "469e6147",
   "metadata": {},
   "outputs": [],
   "source": [
    "teams_raw['Team'][index_lublin] = 'Luk Lublin'\n",
    "teams_raw['City'][index_lublin] = 'Lublin'"
   ]
  },
  {
   "cell_type": "code",
   "execution_count": 145,
   "id": "d575fa67",
   "metadata": {},
   "outputs": [
    {
     "data": {
      "text/html": [
       "<div>\n",
       "<style scoped>\n",
       "    .dataframe tbody tr th:only-of-type {\n",
       "        vertical-align: middle;\n",
       "    }\n",
       "\n",
       "    .dataframe tbody tr th {\n",
       "        vertical-align: top;\n",
       "    }\n",
       "\n",
       "    .dataframe thead th {\n",
       "        text-align: right;\n",
       "    }\n",
       "</style>\n",
       "<table border=\"1\" class=\"dataframe\">\n",
       "  <thead>\n",
       "    <tr style=\"text-align: right;\">\n",
       "      <th></th>\n",
       "      <th>team_raw</th>\n",
       "      <th>Team</th>\n",
       "      <th>City</th>\n",
       "    </tr>\n",
       "  </thead>\n",
       "  <tbody>\n",
       "    <tr>\n",
       "      <th>18</th>\n",
       "      <td>BOGDANKA LUK Lublin</td>\n",
       "      <td>Luk Lublin</td>\n",
       "      <td>Lublin</td>\n",
       "    </tr>\n",
       "    <tr>\n",
       "      <th>68</th>\n",
       "      <td>LUK Lublin</td>\n",
       "      <td>Luk Lublin</td>\n",
       "      <td>Lublin</td>\n",
       "    </tr>\n",
       "  </tbody>\n",
       "</table>\n",
       "</div>"
      ],
      "text/plain": [
       "               team_raw        Team    City\n",
       "18  BOGDANKA LUK Lublin  Luk Lublin  Lublin\n",
       "68           LUK Lublin  Luk Lublin  Lublin"
      ]
     },
     "execution_count": 145,
     "metadata": {},
     "output_type": "execute_result"
    }
   ],
   "source": [
    "teams_raw.iloc[index_lublin]"
   ]
  },
  {
   "cell_type": "markdown",
   "id": "fd5fc1f4",
   "metadata": {},
   "source": [
    "## 12 - Bełchatów"
   ]
  },
  {
   "cell_type": "code",
   "execution_count": 146,
   "id": "6f0bb219",
   "metadata": {},
   "outputs": [
    {
     "data": {
      "text/plain": [
       "19         bot skra bełchatów\n",
       "29         eks skra bełchatów\n",
       "87    pge giek skra bełchatów\n",
       "89         pge skra bełchatów\n",
       "96             skra bełchatów\n",
       "Name: team, dtype: object"
      ]
     },
     "execution_count": 146,
     "metadata": {},
     "output_type": "execute_result"
    }
   ],
   "source": [
    "teams_raw_lower[(teams_raw_lower.str.contains('bełchatów')) | (teams_raw_lower.str.contains('bot'))\n",
    "               | (teams_raw_lower.str.contains('skra'))]"
   ]
  },
  {
   "cell_type": "code",
   "execution_count": 147,
   "id": "f3cdba7e",
   "metadata": {},
   "outputs": [],
   "source": [
    "index_belchatow = teams_raw_lower[(teams_raw_lower.str.contains('bełchatów')) | (teams_raw_lower.str.contains('bot'))\n",
    "               | (teams_raw_lower.str.contains('skra'))].index"
   ]
  },
  {
   "cell_type": "code",
   "execution_count": 148,
   "id": "7a9731b8",
   "metadata": {},
   "outputs": [],
   "source": [
    "teams_raw['Team'][index_belchatow] = 'Skra Bełchatów'\n",
    "teams_raw['City'][index_belchatow] = 'Bełchatów'"
   ]
  },
  {
   "cell_type": "code",
   "execution_count": 150,
   "id": "88587de4",
   "metadata": {},
   "outputs": [
    {
     "data": {
      "text/html": [
       "<div>\n",
       "<style scoped>\n",
       "    .dataframe tbody tr th:only-of-type {\n",
       "        vertical-align: middle;\n",
       "    }\n",
       "\n",
       "    .dataframe tbody tr th {\n",
       "        vertical-align: top;\n",
       "    }\n",
       "\n",
       "    .dataframe thead th {\n",
       "        text-align: right;\n",
       "    }\n",
       "</style>\n",
       "<table border=\"1\" class=\"dataframe\">\n",
       "  <thead>\n",
       "    <tr style=\"text-align: right;\">\n",
       "      <th></th>\n",
       "      <th>team_raw</th>\n",
       "      <th>Team</th>\n",
       "      <th>City</th>\n",
       "    </tr>\n",
       "  </thead>\n",
       "  <tbody>\n",
       "    <tr>\n",
       "      <th>19</th>\n",
       "      <td>BOT SKRA BEŁCHATÓW</td>\n",
       "      <td>Skra Bełchatów</td>\n",
       "      <td>Bełchatów</td>\n",
       "    </tr>\n",
       "    <tr>\n",
       "      <th>29</th>\n",
       "      <td>EKS SKRA BEŁCHATÓW</td>\n",
       "      <td>Skra Bełchatów</td>\n",
       "      <td>Bełchatów</td>\n",
       "    </tr>\n",
       "    <tr>\n",
       "      <th>87</th>\n",
       "      <td>PGE GiEK SKRA Bełchatów</td>\n",
       "      <td>Skra Bełchatów</td>\n",
       "      <td>Bełchatów</td>\n",
       "    </tr>\n",
       "    <tr>\n",
       "      <th>89</th>\n",
       "      <td>PGE Skra Bełchatów</td>\n",
       "      <td>Skra Bełchatów</td>\n",
       "      <td>Bełchatów</td>\n",
       "    </tr>\n",
       "    <tr>\n",
       "      <th>96</th>\n",
       "      <td>SKRA BEŁCHATÓW</td>\n",
       "      <td>Skra Bełchatów</td>\n",
       "      <td>Bełchatów</td>\n",
       "    </tr>\n",
       "  </tbody>\n",
       "</table>\n",
       "</div>"
      ],
      "text/plain": [
       "                   team_raw            Team       City\n",
       "19       BOT SKRA BEŁCHATÓW  Skra Bełchatów  Bełchatów\n",
       "29       EKS SKRA BEŁCHATÓW  Skra Bełchatów  Bełchatów\n",
       "87  PGE GiEK SKRA Bełchatów  Skra Bełchatów  Bełchatów\n",
       "89       PGE Skra Bełchatów  Skra Bełchatów  Bełchatów\n",
       "96           SKRA BEŁCHATÓW  Skra Bełchatów  Bełchatów"
      ]
     },
     "execution_count": 150,
     "metadata": {},
     "output_type": "execute_result"
    }
   ],
   "source": [
    "teams_raw.iloc[index_belchatow]"
   ]
  },
  {
   "cell_type": "markdown",
   "id": "3db9fd72",
   "metadata": {},
   "source": [
    "## 13 - Radom"
   ]
  },
  {
   "cell_type": "code",
   "execution_count": 151,
   "id": "210ca46e",
   "metadata": {},
   "outputs": [
    {
     "data": {
      "text/plain": [
       "20           cerrad czarni radom\n",
       "21      cerrad enea czarni radom\n",
       "30             enea czarni radom\n",
       "47                   jadar radom\n",
       "48        jadar sport s.a. radom\n",
       "61                ks jadar radom\n",
       "79           nordea czarni radom\n",
       "107    warka strong czarni radom\n",
       "Name: team, dtype: object"
      ]
     },
     "execution_count": 151,
     "metadata": {},
     "output_type": "execute_result"
    }
   ],
   "source": [
    "teams_raw_lower[(teams_raw_lower.str.contains('radom')) | (teams_raw_lower.str.contains('cerrad'))\n",
    "               | (teams_raw_lower.str.contains('czarni'))]"
   ]
  },
  {
   "cell_type": "markdown",
   "id": "1c6c1154",
   "metadata": {},
   "source": [
    "Existen dos clubes distintos en Radom:\n",
    "- Czarni Radom\n",
    "- Jadar Radom"
   ]
  },
  {
   "cell_type": "code",
   "execution_count": 153,
   "id": "c0841d77",
   "metadata": {},
   "outputs": [],
   "source": [
    "# Indices del Czarni Radom\n",
    "index_czarni_radom = teams_raw_lower[(teams_raw_lower.str.contains('czarni radom'))].index"
   ]
  },
  {
   "cell_type": "code",
   "execution_count": 154,
   "id": "25f71d47",
   "metadata": {},
   "outputs": [],
   "source": [
    "teams_raw['Team'][index_czarni_radom] = 'Czarni Radom'\n",
    "teams_raw['City'][index_czarni_radom] = 'Radom'"
   ]
  },
  {
   "cell_type": "code",
   "execution_count": 155,
   "id": "640c9a76",
   "metadata": {},
   "outputs": [
    {
     "data": {
      "text/html": [
       "<div>\n",
       "<style scoped>\n",
       "    .dataframe tbody tr th:only-of-type {\n",
       "        vertical-align: middle;\n",
       "    }\n",
       "\n",
       "    .dataframe tbody tr th {\n",
       "        vertical-align: top;\n",
       "    }\n",
       "\n",
       "    .dataframe thead th {\n",
       "        text-align: right;\n",
       "    }\n",
       "</style>\n",
       "<table border=\"1\" class=\"dataframe\">\n",
       "  <thead>\n",
       "    <tr style=\"text-align: right;\">\n",
       "      <th></th>\n",
       "      <th>team_raw</th>\n",
       "      <th>Team</th>\n",
       "      <th>City</th>\n",
       "    </tr>\n",
       "  </thead>\n",
       "  <tbody>\n",
       "    <tr>\n",
       "      <th>20</th>\n",
       "      <td>Cerrad Czarni Radom</td>\n",
       "      <td>Czarni Radom</td>\n",
       "      <td>Radom</td>\n",
       "    </tr>\n",
       "    <tr>\n",
       "      <th>21</th>\n",
       "      <td>Cerrad Enea Czarni Radom</td>\n",
       "      <td>Czarni Radom</td>\n",
       "      <td>Radom</td>\n",
       "    </tr>\n",
       "    <tr>\n",
       "      <th>30</th>\n",
       "      <td>Enea Czarni Radom</td>\n",
       "      <td>Czarni Radom</td>\n",
       "      <td>Radom</td>\n",
       "    </tr>\n",
       "    <tr>\n",
       "      <th>79</th>\n",
       "      <td>NORDEA CZARNI RADOM</td>\n",
       "      <td>Czarni Radom</td>\n",
       "      <td>Radom</td>\n",
       "    </tr>\n",
       "    <tr>\n",
       "      <th>107</th>\n",
       "      <td>WARKA STRONG CZARNI RADOM</td>\n",
       "      <td>Czarni Radom</td>\n",
       "      <td>Radom</td>\n",
       "    </tr>\n",
       "  </tbody>\n",
       "</table>\n",
       "</div>"
      ],
      "text/plain": [
       "                      team_raw          Team   City\n",
       "20         Cerrad Czarni Radom  Czarni Radom  Radom\n",
       "21    Cerrad Enea Czarni Radom  Czarni Radom  Radom\n",
       "30           Enea Czarni Radom  Czarni Radom  Radom\n",
       "79         NORDEA CZARNI RADOM  Czarni Radom  Radom\n",
       "107  WARKA STRONG CZARNI RADOM  Czarni Radom  Radom"
      ]
     },
     "execution_count": 155,
     "metadata": {},
     "output_type": "execute_result"
    }
   ],
   "source": [
    "teams_raw.iloc[index_czarni_radom]"
   ]
  },
  {
   "cell_type": "code",
   "execution_count": 157,
   "id": "e004efe8",
   "metadata": {},
   "outputs": [],
   "source": [
    "# indices del Jadar Radom\n",
    "index_jadar_radom = teams_raw_lower[(teams_raw_lower.str.contains('jadar'))].index"
   ]
  },
  {
   "cell_type": "code",
   "execution_count": 158,
   "id": "5087b888",
   "metadata": {},
   "outputs": [],
   "source": [
    "teams_raw['Team'][index_jadar_radom] = 'Jadar Radom'\n",
    "teams_raw['City'][index_jadar_radom] = 'Radom'"
   ]
  },
  {
   "cell_type": "code",
   "execution_count": 159,
   "id": "9fe66d43",
   "metadata": {},
   "outputs": [
    {
     "data": {
      "text/html": [
       "<div>\n",
       "<style scoped>\n",
       "    .dataframe tbody tr th:only-of-type {\n",
       "        vertical-align: middle;\n",
       "    }\n",
       "\n",
       "    .dataframe tbody tr th {\n",
       "        vertical-align: top;\n",
       "    }\n",
       "\n",
       "    .dataframe thead th {\n",
       "        text-align: right;\n",
       "    }\n",
       "</style>\n",
       "<table border=\"1\" class=\"dataframe\">\n",
       "  <thead>\n",
       "    <tr style=\"text-align: right;\">\n",
       "      <th></th>\n",
       "      <th>team_raw</th>\n",
       "      <th>Team</th>\n",
       "      <th>City</th>\n",
       "    </tr>\n",
       "  </thead>\n",
       "  <tbody>\n",
       "    <tr>\n",
       "      <th>47</th>\n",
       "      <td>Jadar Radom</td>\n",
       "      <td>Jadar Radom</td>\n",
       "      <td>Radom</td>\n",
       "    </tr>\n",
       "    <tr>\n",
       "      <th>48</th>\n",
       "      <td>Jadar Sport S.A. Radom</td>\n",
       "      <td>Jadar Radom</td>\n",
       "      <td>Radom</td>\n",
       "    </tr>\n",
       "    <tr>\n",
       "      <th>61</th>\n",
       "      <td>KS JADAR RADOM</td>\n",
       "      <td>Jadar Radom</td>\n",
       "      <td>Radom</td>\n",
       "    </tr>\n",
       "  </tbody>\n",
       "</table>\n",
       "</div>"
      ],
      "text/plain": [
       "                  team_raw         Team   City\n",
       "47             Jadar Radom  Jadar Radom  Radom\n",
       "48  Jadar Sport S.A. Radom  Jadar Radom  Radom\n",
       "61          KS JADAR RADOM  Jadar Radom  Radom"
      ]
     },
     "execution_count": 159,
     "metadata": {},
     "output_type": "execute_result"
    }
   ],
   "source": [
    "teams_raw.iloc[index_jadar_radom]"
   ]
  },
  {
   "cell_type": "markdown",
   "id": "9f522a54",
   "metadata": {},
   "source": [
    "## 14 - Lubin"
   ]
  },
  {
   "cell_type": "code",
   "execution_count": 160,
   "id": "da53843f",
   "metadata": {},
   "outputs": [
    {
     "data": {
      "text/plain": [
       "23            cuprum lubin\n",
       "24    cuprum stilon gorzów\n",
       "55       kghm cuprum lubin\n",
       "Name: team, dtype: object"
      ]
     },
     "execution_count": 160,
     "metadata": {},
     "output_type": "execute_result"
    }
   ],
   "source": [
    "teams_raw_lower[(teams_raw_lower.str.contains('lubin')) | (teams_raw_lower.str.contains('cuprum'))]"
   ]
  },
  {
   "cell_type": "markdown",
   "id": "fc06d0e2",
   "metadata": {},
   "source": [
    "Investigamos que el Cuprum Lubin y el Cuprum Stilon Gorzów son equipos distintos pero fruto de una fusión. En cualquier caso, los consideraremos distintos."
   ]
  },
  {
   "cell_type": "code",
   "execution_count": 162,
   "id": "5b725ac6",
   "metadata": {},
   "outputs": [],
   "source": [
    "index_lubin = teams_raw_lower[(teams_raw_lower.str.contains('lubin'))].index"
   ]
  },
  {
   "cell_type": "code",
   "execution_count": 163,
   "id": "daea37d3",
   "metadata": {},
   "outputs": [],
   "source": [
    "teams_raw['Team'][index_lubin] = 'Cuprum Lubin'\n",
    "teams_raw['City'][index_lubin] = 'Lubin'"
   ]
  },
  {
   "cell_type": "code",
   "execution_count": 164,
   "id": "f47b23b1",
   "metadata": {},
   "outputs": [
    {
     "data": {
      "text/html": [
       "<div>\n",
       "<style scoped>\n",
       "    .dataframe tbody tr th:only-of-type {\n",
       "        vertical-align: middle;\n",
       "    }\n",
       "\n",
       "    .dataframe tbody tr th {\n",
       "        vertical-align: top;\n",
       "    }\n",
       "\n",
       "    .dataframe thead th {\n",
       "        text-align: right;\n",
       "    }\n",
       "</style>\n",
       "<table border=\"1\" class=\"dataframe\">\n",
       "  <thead>\n",
       "    <tr style=\"text-align: right;\">\n",
       "      <th></th>\n",
       "      <th>team_raw</th>\n",
       "      <th>Team</th>\n",
       "      <th>City</th>\n",
       "    </tr>\n",
       "  </thead>\n",
       "  <tbody>\n",
       "    <tr>\n",
       "      <th>23</th>\n",
       "      <td>Cuprum Lubin</td>\n",
       "      <td>Cuprum Lubin</td>\n",
       "      <td>Lubin</td>\n",
       "    </tr>\n",
       "    <tr>\n",
       "      <th>55</th>\n",
       "      <td>KGHM Cuprum Lubin</td>\n",
       "      <td>Cuprum Lubin</td>\n",
       "      <td>Lubin</td>\n",
       "    </tr>\n",
       "  </tbody>\n",
       "</table>\n",
       "</div>"
      ],
      "text/plain": [
       "             team_raw          Team   City\n",
       "23       Cuprum Lubin  Cuprum Lubin  Lubin\n",
       "55  KGHM Cuprum Lubin  Cuprum Lubin  Lubin"
      ]
     },
     "execution_count": 164,
     "metadata": {},
     "output_type": "execute_result"
    }
   ],
   "source": [
    "teams_raw.iloc[index_lubin]"
   ]
  },
  {
   "cell_type": "markdown",
   "id": "e2a73f5b",
   "metadata": {},
   "source": [
    "## 15 - Gorszów Wielkopolski"
   ]
  },
  {
   "cell_type": "code",
   "execution_count": 167,
   "id": "7830a783",
   "metadata": {},
   "outputs": [
    {
     "data": {
      "text/plain": [
       "24        cuprum stilon gorzów\n",
       "39    gtps gorzów wielkopolski\n",
       "99         stilon meryl gorzów\n",
       "Name: team, dtype: object"
      ]
     },
     "execution_count": 167,
     "metadata": {},
     "output_type": "execute_result"
    }
   ],
   "source": [
    "teams_raw_lower[(teams_raw_lower.str.contains('gorzów')) | (teams_raw_lower.str.contains('stilon')) |\n",
    "               (teams_raw_lower.str.contains('gtps'))]"
   ]
  },
  {
   "cell_type": "markdown",
   "id": "538ef4b0",
   "metadata": {},
   "source": [
    "Encontramos dos equipos diferentes:\n",
    "- Stilon Gorzów\n",
    "- GTPS Gorzów Wielkopolski"
   ]
  },
  {
   "cell_type": "code",
   "execution_count": 169,
   "id": "8357d665",
   "metadata": {},
   "outputs": [],
   "source": [
    "# indices Stilon\n",
    "index_stilon = teams_raw_lower[(teams_raw_lower.str.contains('stilon'))].index"
   ]
  },
  {
   "cell_type": "code",
   "execution_count": 170,
   "id": "cad3684e",
   "metadata": {},
   "outputs": [],
   "source": [
    "teams_raw['Team'][index_stilon] = 'Stilon Gorzów'\n",
    "teams_raw['City'][index_stilon] = 'Gorzów Wielkopolski'"
   ]
  },
  {
   "cell_type": "code",
   "execution_count": 171,
   "id": "d38a43b1",
   "metadata": {},
   "outputs": [
    {
     "data": {
      "text/html": [
       "<div>\n",
       "<style scoped>\n",
       "    .dataframe tbody tr th:only-of-type {\n",
       "        vertical-align: middle;\n",
       "    }\n",
       "\n",
       "    .dataframe tbody tr th {\n",
       "        vertical-align: top;\n",
       "    }\n",
       "\n",
       "    .dataframe thead th {\n",
       "        text-align: right;\n",
       "    }\n",
       "</style>\n",
       "<table border=\"1\" class=\"dataframe\">\n",
       "  <thead>\n",
       "    <tr style=\"text-align: right;\">\n",
       "      <th></th>\n",
       "      <th>team_raw</th>\n",
       "      <th>Team</th>\n",
       "      <th>City</th>\n",
       "    </tr>\n",
       "  </thead>\n",
       "  <tbody>\n",
       "    <tr>\n",
       "      <th>24</th>\n",
       "      <td>Cuprum Stilon Gorzów</td>\n",
       "      <td>Stilon Gorzów</td>\n",
       "      <td>Gorzów Wielkopolski</td>\n",
       "    </tr>\n",
       "    <tr>\n",
       "      <th>99</th>\n",
       "      <td>STILON MERYL GORZÓW</td>\n",
       "      <td>Stilon Gorzów</td>\n",
       "      <td>Gorzów Wielkopolski</td>\n",
       "    </tr>\n",
       "  </tbody>\n",
       "</table>\n",
       "</div>"
      ],
      "text/plain": [
       "                team_raw           Team                 City\n",
       "24  Cuprum Stilon Gorzów  Stilon Gorzów  Gorzów Wielkopolski\n",
       "99   STILON MERYL GORZÓW  Stilon Gorzów  Gorzów Wielkopolski"
      ]
     },
     "execution_count": 171,
     "metadata": {},
     "output_type": "execute_result"
    }
   ],
   "source": [
    "teams_raw.iloc[index_stilon]"
   ]
  },
  {
   "cell_type": "code",
   "execution_count": 173,
   "id": "a880f3da",
   "metadata": {},
   "outputs": [],
   "source": [
    "# indice GTPS\n",
    "index_gtps = teams_raw_lower[(teams_raw_lower.str.contains('gtps'))].index"
   ]
  },
  {
   "cell_type": "code",
   "execution_count": 174,
   "id": "72ac548c",
   "metadata": {},
   "outputs": [],
   "source": [
    "teams_raw['Team'][index_gtps] = 'GTPS Gorzów Wielkopolski'\n",
    "teams_raw['City'][index_gtps] = 'Gorzów Wielkopolski'"
   ]
  },
  {
   "cell_type": "code",
   "execution_count": 175,
   "id": "6c7720bf",
   "metadata": {},
   "outputs": [
    {
     "data": {
      "text/html": [
       "<div>\n",
       "<style scoped>\n",
       "    .dataframe tbody tr th:only-of-type {\n",
       "        vertical-align: middle;\n",
       "    }\n",
       "\n",
       "    .dataframe tbody tr th {\n",
       "        vertical-align: top;\n",
       "    }\n",
       "\n",
       "    .dataframe thead th {\n",
       "        text-align: right;\n",
       "    }\n",
       "</style>\n",
       "<table border=\"1\" class=\"dataframe\">\n",
       "  <thead>\n",
       "    <tr style=\"text-align: right;\">\n",
       "      <th></th>\n",
       "      <th>team_raw</th>\n",
       "      <th>Team</th>\n",
       "      <th>City</th>\n",
       "    </tr>\n",
       "  </thead>\n",
       "  <tbody>\n",
       "    <tr>\n",
       "      <th>39</th>\n",
       "      <td>GTPS GORZÓW WIELKOPOLSKI</td>\n",
       "      <td>GTPS Gorzów Wielkopolski</td>\n",
       "      <td>Gorzów Wielkopolski</td>\n",
       "    </tr>\n",
       "  </tbody>\n",
       "</table>\n",
       "</div>"
      ],
      "text/plain": [
       "                    team_raw                      Team                 City\n",
       "39  GTPS GORZÓW WIELKOPOLSKI  GTPS Gorzów Wielkopolski  Gorzów Wielkopolski"
      ]
     },
     "execution_count": 175,
     "metadata": {},
     "output_type": "execute_result"
    }
   ],
   "source": [
    "teams_raw.iloc[index_gtps]"
   ]
  },
  {
   "cell_type": "markdown",
   "id": "64c2b637",
   "metadata": {},
   "source": [
    "## 16 - Kielce "
   ]
  },
  {
   "cell_type": "code",
   "execution_count": 178,
   "id": "928001d1",
   "metadata": {},
   "outputs": [
    {
     "data": {
      "text/plain": [
       "25    dafi społem kielce\n",
       "28       effector kielce\n",
       "33           fart kielce\n",
       "Name: team, dtype: object"
      ]
     },
     "execution_count": 178,
     "metadata": {},
     "output_type": "execute_result"
    }
   ],
   "source": [
    "teams_raw_lower[(teams_raw_lower.str.contains('kielce')) | (teams_raw_lower.str.contains('społem')) |\n",
    "               (teams_raw_lower.str.contains('dafi'))]"
   ]
  },
  {
   "cell_type": "code",
   "execution_count": 179,
   "id": "d526b853",
   "metadata": {},
   "outputs": [],
   "source": [
    "index_kielce = teams_raw_lower[(teams_raw_lower.str.contains('kielce')) | (teams_raw_lower.str.contains('społem')) |\n",
    "               (teams_raw_lower.str.contains('dafi'))].index"
   ]
  },
  {
   "cell_type": "code",
   "execution_count": 180,
   "id": "4fe6963f",
   "metadata": {},
   "outputs": [],
   "source": [
    "teams_raw['Team'][index_kielce] = 'Dafi Społem Kielce'\n",
    "teams_raw['City'][index_kielce] = 'Kielce'"
   ]
  },
  {
   "cell_type": "code",
   "execution_count": 181,
   "id": "c7cdae4a",
   "metadata": {},
   "outputs": [
    {
     "data": {
      "text/html": [
       "<div>\n",
       "<style scoped>\n",
       "    .dataframe tbody tr th:only-of-type {\n",
       "        vertical-align: middle;\n",
       "    }\n",
       "\n",
       "    .dataframe tbody tr th {\n",
       "        vertical-align: top;\n",
       "    }\n",
       "\n",
       "    .dataframe thead th {\n",
       "        text-align: right;\n",
       "    }\n",
       "</style>\n",
       "<table border=\"1\" class=\"dataframe\">\n",
       "  <thead>\n",
       "    <tr style=\"text-align: right;\">\n",
       "      <th></th>\n",
       "      <th>team_raw</th>\n",
       "      <th>Team</th>\n",
       "      <th>City</th>\n",
       "    </tr>\n",
       "  </thead>\n",
       "  <tbody>\n",
       "    <tr>\n",
       "      <th>25</th>\n",
       "      <td>Dafi Społem Kielce</td>\n",
       "      <td>Dafi Społem Kielce</td>\n",
       "      <td>Kielce</td>\n",
       "    </tr>\n",
       "    <tr>\n",
       "      <th>28</th>\n",
       "      <td>Effector Kielce</td>\n",
       "      <td>Dafi Społem Kielce</td>\n",
       "      <td>Kielce</td>\n",
       "    </tr>\n",
       "    <tr>\n",
       "      <th>33</th>\n",
       "      <td>Fart Kielce</td>\n",
       "      <td>Dafi Społem Kielce</td>\n",
       "      <td>Kielce</td>\n",
       "    </tr>\n",
       "  </tbody>\n",
       "</table>\n",
       "</div>"
      ],
      "text/plain": [
       "              team_raw                Team    City\n",
       "25  Dafi Społem Kielce  Dafi Społem Kielce  Kielce\n",
       "28     Effector Kielce  Dafi Społem Kielce  Kielce\n",
       "33         Fart Kielce  Dafi Społem Kielce  Kielce"
      ]
     },
     "execution_count": 181,
     "metadata": {},
     "output_type": "execute_result"
    }
   ],
   "source": [
    "teams_raw.iloc[index_kielce]"
   ]
  },
  {
   "cell_type": "markdown",
   "id": "7cf2fb12",
   "metadata": {},
   "source": [
    "## 17 - Szczecin"
   ]
  },
  {
   "cell_type": "code",
   "execution_count": 184,
   "id": "6105f9f1",
   "metadata": {},
   "outputs": [
    {
     "data": {
      "text/plain": [
       "31      espadon szczecin\n",
       "63              ks morze\n",
       "64     ks morze szczecin\n",
       "72        morze szczecin\n",
       "100    stocznia szczecin\n",
       "Name: team, dtype: object"
      ]
     },
     "execution_count": 184,
     "metadata": {},
     "output_type": "execute_result"
    }
   ],
   "source": [
    "teams_raw_lower[(teams_raw_lower.str.contains('szczecin')) | (teams_raw_lower.str.contains('espadon'))\n",
    "               | (teams_raw_lower.str.contains('morze')) | (teams_raw_lower.str.contains('stocznia'))]"
   ]
  },
  {
   "cell_type": "markdown",
   "id": "4ae87269",
   "metadata": {},
   "source": [
    "Aunque no está muy claro del todo, todos pueden considerarse el mismo club:\n",
    "- Stocznia Szczecin"
   ]
  },
  {
   "cell_type": "code",
   "execution_count": 185,
   "id": "9fb705f0",
   "metadata": {},
   "outputs": [],
   "source": [
    "index_szczecin = teams_raw_lower[(teams_raw_lower.str.contains('szczecin')) | (teams_raw_lower.str.contains('espadon'))\n",
    "               | (teams_raw_lower.str.contains('morze')) | (teams_raw_lower.str.contains('stocznia'))].index"
   ]
  },
  {
   "cell_type": "code",
   "execution_count": 186,
   "id": "8adc1082",
   "metadata": {},
   "outputs": [],
   "source": [
    "teams_raw['Team'][index_szczecin] = 'Stocznia Szczecin'\n",
    "teams_raw['City'][index_szczecin] = 'Szczecin'"
   ]
  },
  {
   "cell_type": "code",
   "execution_count": 187,
   "id": "1966b618",
   "metadata": {},
   "outputs": [
    {
     "data": {
      "text/html": [
       "<div>\n",
       "<style scoped>\n",
       "    .dataframe tbody tr th:only-of-type {\n",
       "        vertical-align: middle;\n",
       "    }\n",
       "\n",
       "    .dataframe tbody tr th {\n",
       "        vertical-align: top;\n",
       "    }\n",
       "\n",
       "    .dataframe thead th {\n",
       "        text-align: right;\n",
       "    }\n",
       "</style>\n",
       "<table border=\"1\" class=\"dataframe\">\n",
       "  <thead>\n",
       "    <tr style=\"text-align: right;\">\n",
       "      <th></th>\n",
       "      <th>team_raw</th>\n",
       "      <th>Team</th>\n",
       "      <th>City</th>\n",
       "    </tr>\n",
       "  </thead>\n",
       "  <tbody>\n",
       "    <tr>\n",
       "      <th>31</th>\n",
       "      <td>Espadon Szczecin</td>\n",
       "      <td>Stocznia Szczecin</td>\n",
       "      <td>Szczecin</td>\n",
       "    </tr>\n",
       "    <tr>\n",
       "      <th>63</th>\n",
       "      <td>KS MORZE</td>\n",
       "      <td>Stocznia Szczecin</td>\n",
       "      <td>Szczecin</td>\n",
       "    </tr>\n",
       "    <tr>\n",
       "      <th>64</th>\n",
       "      <td>KS MORZE SZCZECIN</td>\n",
       "      <td>Stocznia Szczecin</td>\n",
       "      <td>Szczecin</td>\n",
       "    </tr>\n",
       "    <tr>\n",
       "      <th>72</th>\n",
       "      <td>MORZE SZCZECIN</td>\n",
       "      <td>Stocznia Szczecin</td>\n",
       "      <td>Szczecin</td>\n",
       "    </tr>\n",
       "    <tr>\n",
       "      <th>100</th>\n",
       "      <td>Stocznia Szczecin</td>\n",
       "      <td>Stocznia Szczecin</td>\n",
       "      <td>Szczecin</td>\n",
       "    </tr>\n",
       "  </tbody>\n",
       "</table>\n",
       "</div>"
      ],
      "text/plain": [
       "              team_raw               Team      City\n",
       "31    Espadon Szczecin  Stocznia Szczecin  Szczecin\n",
       "63            KS MORZE  Stocznia Szczecin  Szczecin\n",
       "64   KS MORZE SZCZECIN  Stocznia Szczecin  Szczecin\n",
       "72      MORZE SZCZECIN  Stocznia Szczecin  Szczecin\n",
       "100  Stocznia Szczecin  Stocznia Szczecin  Szczecin"
      ]
     },
     "execution_count": 187,
     "metadata": {},
     "output_type": "execute_result"
    }
   ],
   "source": [
    "teams_raw.iloc[index_szczecin]"
   ]
  },
  {
   "cell_type": "markdown",
   "id": "aead2697",
   "metadata": {},
   "source": [
    "## 18 - Katowice"
   ]
  },
  {
   "cell_type": "code",
   "execution_count": 188,
   "id": "5d40c295",
   "metadata": {},
   "outputs": [
    {
     "data": {
      "text/plain": [
       "37    gks katowice\n",
       "Name: team, dtype: object"
      ]
     },
     "execution_count": 188,
     "metadata": {},
     "output_type": "execute_result"
    }
   ],
   "source": [
    "teams_raw_lower[(teams_raw_lower.str.contains('katowice')) | (teams_raw_lower.str.contains('gks'))]"
   ]
  },
  {
   "cell_type": "code",
   "execution_count": 189,
   "id": "fb5342e6",
   "metadata": {},
   "outputs": [],
   "source": [
    "index_katowice = teams_raw_lower[(teams_raw_lower.str.contains('katowice')) | (teams_raw_lower.str.contains('gks'))].index"
   ]
  },
  {
   "cell_type": "code",
   "execution_count": 190,
   "id": "11900b0c",
   "metadata": {},
   "outputs": [],
   "source": [
    "teams_raw['Team'][index_katowice] = 'GKS Katowice'\n",
    "teams_raw['City'][index_katowice] = 'Katowice'"
   ]
  },
  {
   "cell_type": "code",
   "execution_count": 191,
   "id": "8425b5bb",
   "metadata": {},
   "outputs": [
    {
     "data": {
      "text/html": [
       "<div>\n",
       "<style scoped>\n",
       "    .dataframe tbody tr th:only-of-type {\n",
       "        vertical-align: middle;\n",
       "    }\n",
       "\n",
       "    .dataframe tbody tr th {\n",
       "        vertical-align: top;\n",
       "    }\n",
       "\n",
       "    .dataframe thead th {\n",
       "        text-align: right;\n",
       "    }\n",
       "</style>\n",
       "<table border=\"1\" class=\"dataframe\">\n",
       "  <thead>\n",
       "    <tr style=\"text-align: right;\">\n",
       "      <th></th>\n",
       "      <th>team_raw</th>\n",
       "      <th>Team</th>\n",
       "      <th>City</th>\n",
       "    </tr>\n",
       "  </thead>\n",
       "  <tbody>\n",
       "    <tr>\n",
       "      <th>37</th>\n",
       "      <td>GKS Katowice</td>\n",
       "      <td>GKS Katowice</td>\n",
       "      <td>Katowice</td>\n",
       "    </tr>\n",
       "  </tbody>\n",
       "</table>\n",
       "</div>"
      ],
      "text/plain": [
       "        team_raw          Team      City\n",
       "37  GKS Katowice  GKS Katowice  Katowice"
      ]
     },
     "execution_count": 191,
     "metadata": {},
     "output_type": "execute_result"
    }
   ],
   "source": [
    "teams_raw.iloc[index_katowice]"
   ]
  },
  {
   "cell_type": "markdown",
   "id": "1a6c6246",
   "metadata": {},
   "source": [
    "## 19 - Kędzierzyn-Koźle"
   ]
  },
  {
   "cell_type": "code",
   "execution_count": 192,
   "id": "22d73c95",
   "metadata": {},
   "outputs": [
    {
     "data": {
      "text/plain": [
       "38          grupa azoty zaksa kędzierzyn-koźle\n",
       "73          mostostal - azoty kędzierzyn-koźle\n",
       "74     mostostal - azoty s.a. kędzierzyn-koźle\n",
       "75      mostostal - azoty ssa kędzierzyn-koźle\n",
       "110                    zak sa kędzierzyn-koźle\n",
       "111                     zaksa kędzierzyn-koźle\n",
       "Name: team, dtype: object"
      ]
     },
     "execution_count": 192,
     "metadata": {},
     "output_type": "execute_result"
    }
   ],
   "source": [
    "teams_raw_lower[(teams_raw_lower.str.contains('koźle')) | (teams_raw_lower.str.contains('zaksa'))]"
   ]
  },
  {
   "cell_type": "code",
   "execution_count": 193,
   "id": "ea0e4e77",
   "metadata": {},
   "outputs": [],
   "source": [
    "index_zaksa = teams_raw_lower[(teams_raw_lower.str.contains('koźle')) | (teams_raw_lower.str.contains('zaksa'))].index"
   ]
  },
  {
   "cell_type": "code",
   "execution_count": 194,
   "id": "3f438c92",
   "metadata": {},
   "outputs": [],
   "source": [
    "teams_raw['Team'][index_zaksa] = 'ZAKSA Kędzierzyn-Koźle'\n",
    "teams_raw['City'][index_zaksa] = 'Kędzierzyn-Koźle'"
   ]
  },
  {
   "cell_type": "code",
   "execution_count": 195,
   "id": "3358c1df",
   "metadata": {},
   "outputs": [
    {
     "data": {
      "text/html": [
       "<div>\n",
       "<style scoped>\n",
       "    .dataframe tbody tr th:only-of-type {\n",
       "        vertical-align: middle;\n",
       "    }\n",
       "\n",
       "    .dataframe tbody tr th {\n",
       "        vertical-align: top;\n",
       "    }\n",
       "\n",
       "    .dataframe thead th {\n",
       "        text-align: right;\n",
       "    }\n",
       "</style>\n",
       "<table border=\"1\" class=\"dataframe\">\n",
       "  <thead>\n",
       "    <tr style=\"text-align: right;\">\n",
       "      <th></th>\n",
       "      <th>team_raw</th>\n",
       "      <th>Team</th>\n",
       "      <th>City</th>\n",
       "    </tr>\n",
       "  </thead>\n",
       "  <tbody>\n",
       "    <tr>\n",
       "      <th>38</th>\n",
       "      <td>Grupa Azoty ZAKSA Kędzierzyn-Koźle</td>\n",
       "      <td>ZAKSA Kędzierzyn-Koźle</td>\n",
       "      <td>Kędzierzyn-Koźle</td>\n",
       "    </tr>\n",
       "    <tr>\n",
       "      <th>73</th>\n",
       "      <td>MOSTOSTAL - AZOTY KĘDZIERZYN-KOŹLE</td>\n",
       "      <td>ZAKSA Kędzierzyn-Koźle</td>\n",
       "      <td>Kędzierzyn-Koźle</td>\n",
       "    </tr>\n",
       "    <tr>\n",
       "      <th>74</th>\n",
       "      <td>MOSTOSTAL - AZOTY S.A. KĘDZIERZYN-KOŹLE</td>\n",
       "      <td>ZAKSA Kędzierzyn-Koźle</td>\n",
       "      <td>Kędzierzyn-Koźle</td>\n",
       "    </tr>\n",
       "    <tr>\n",
       "      <th>75</th>\n",
       "      <td>MOSTOSTAL - AZOTY SSA KĘDZIERZYN-KOŹLE</td>\n",
       "      <td>ZAKSA Kędzierzyn-Koźle</td>\n",
       "      <td>Kędzierzyn-Koźle</td>\n",
       "    </tr>\n",
       "    <tr>\n",
       "      <th>110</th>\n",
       "      <td>ZAK SA KĘDZIERZYN-KOŹLE</td>\n",
       "      <td>ZAKSA Kędzierzyn-Koźle</td>\n",
       "      <td>Kędzierzyn-Koźle</td>\n",
       "    </tr>\n",
       "    <tr>\n",
       "      <th>111</th>\n",
       "      <td>ZAKSA Kędzierzyn-Koźle</td>\n",
       "      <td>ZAKSA Kędzierzyn-Koźle</td>\n",
       "      <td>Kędzierzyn-Koźle</td>\n",
       "    </tr>\n",
       "  </tbody>\n",
       "</table>\n",
       "</div>"
      ],
      "text/plain": [
       "                                    team_raw                    Team  \\\n",
       "38        Grupa Azoty ZAKSA Kędzierzyn-Koźle  ZAKSA Kędzierzyn-Koźle   \n",
       "73        MOSTOSTAL - AZOTY KĘDZIERZYN-KOŹLE  ZAKSA Kędzierzyn-Koźle   \n",
       "74   MOSTOSTAL - AZOTY S.A. KĘDZIERZYN-KOŹLE  ZAKSA Kędzierzyn-Koźle   \n",
       "75    MOSTOSTAL - AZOTY SSA KĘDZIERZYN-KOŹLE  ZAKSA Kędzierzyn-Koźle   \n",
       "110                  ZAK SA KĘDZIERZYN-KOŹLE  ZAKSA Kędzierzyn-Koźle   \n",
       "111                   ZAKSA Kędzierzyn-Koźle  ZAKSA Kędzierzyn-Koźle   \n",
       "\n",
       "                 City  \n",
       "38   Kędzierzyn-Koźle  \n",
       "73   Kędzierzyn-Koźle  \n",
       "74   Kędzierzyn-Koźle  \n",
       "75   Kędzierzyn-Koźle  \n",
       "110  Kędzierzyn-Koźle  \n",
       "111  Kędzierzyn-Koźle  "
      ]
     },
     "execution_count": 195,
     "metadata": {},
     "output_type": "execute_result"
    }
   ],
   "source": [
    "teams_raw.iloc[index_zaksa]"
   ]
  },
  {
   "cell_type": "markdown",
   "id": "bec53107",
   "metadata": {},
   "source": [
    "## 20 - Jastrzębiu-Zdroju"
   ]
  },
  {
   "cell_type": "code",
   "execution_count": 197,
   "id": "4b61a3ae",
   "metadata": {},
   "outputs": [
    {
     "data": {
      "text/plain": [
       "43       ivett jastrzębie borynia\n",
       "49             jastrzębie borynia\n",
       "50             jastrzębski węgiel\n",
       "51         jastrzębski węgiel ssa\n",
       "52         jsw jastrzębski węgiel\n",
       "60    ks ivett jastrzębie borynia\n",
       "62     ks jastrzębski węgiel s.a.\n",
       "Name: team, dtype: object"
      ]
     },
     "execution_count": 197,
     "metadata": {},
     "output_type": "execute_result"
    }
   ],
   "source": [
    "teams_raw_lower[(teams_raw_lower.str.contains('jastrzę')) | (teams_raw_lower.str.contains('borynia'))]"
   ]
  },
  {
   "cell_type": "code",
   "execution_count": 198,
   "id": "96b78797",
   "metadata": {},
   "outputs": [],
   "source": [
    "index_jastrzębski = teams_raw_lower[(teams_raw_lower.str.contains('jastrzę')) | (teams_raw_lower.str.contains('borynia'))].index"
   ]
  },
  {
   "cell_type": "code",
   "execution_count": 199,
   "id": "c09cef85",
   "metadata": {},
   "outputs": [],
   "source": [
    "teams_raw['Team'][index_jastrzębski] = 'Jastrzębski Węgiel'\n",
    "teams_raw['City'][index_jastrzębski] = 'Jastrzębiu-Zdroju'"
   ]
  },
  {
   "cell_type": "code",
   "execution_count": 200,
   "id": "0aee75aa",
   "metadata": {},
   "outputs": [
    {
     "data": {
      "text/html": [
       "<div>\n",
       "<style scoped>\n",
       "    .dataframe tbody tr th:only-of-type {\n",
       "        vertical-align: middle;\n",
       "    }\n",
       "\n",
       "    .dataframe tbody tr th {\n",
       "        vertical-align: top;\n",
       "    }\n",
       "\n",
       "    .dataframe thead th {\n",
       "        text-align: right;\n",
       "    }\n",
       "</style>\n",
       "<table border=\"1\" class=\"dataframe\">\n",
       "  <thead>\n",
       "    <tr style=\"text-align: right;\">\n",
       "      <th></th>\n",
       "      <th>team_raw</th>\n",
       "      <th>Team</th>\n",
       "      <th>City</th>\n",
       "    </tr>\n",
       "  </thead>\n",
       "  <tbody>\n",
       "    <tr>\n",
       "      <th>43</th>\n",
       "      <td>IVETT JASTRZĘBIE BORYNIA</td>\n",
       "      <td>Jastrzębski Węgiel</td>\n",
       "      <td>Jastrzębiu-Zdroju</td>\n",
       "    </tr>\n",
       "    <tr>\n",
       "      <th>49</th>\n",
       "      <td>JASTRZĘBIE BORYNIA</td>\n",
       "      <td>Jastrzębski Węgiel</td>\n",
       "      <td>Jastrzębiu-Zdroju</td>\n",
       "    </tr>\n",
       "    <tr>\n",
       "      <th>50</th>\n",
       "      <td>Jastrzębski Węgiel</td>\n",
       "      <td>Jastrzębski Węgiel</td>\n",
       "      <td>Jastrzębiu-Zdroju</td>\n",
       "    </tr>\n",
       "    <tr>\n",
       "      <th>51</th>\n",
       "      <td>JASTRZĘBSKI WĘGIEL SSA</td>\n",
       "      <td>Jastrzębski Węgiel</td>\n",
       "      <td>Jastrzębiu-Zdroju</td>\n",
       "    </tr>\n",
       "    <tr>\n",
       "      <th>52</th>\n",
       "      <td>JSW Jastrzębski Węgiel</td>\n",
       "      <td>Jastrzębski Węgiel</td>\n",
       "      <td>Jastrzębiu-Zdroju</td>\n",
       "    </tr>\n",
       "    <tr>\n",
       "      <th>60</th>\n",
       "      <td>KS IVETT JASTRZĘBIE BORYNIA</td>\n",
       "      <td>Jastrzębski Węgiel</td>\n",
       "      <td>Jastrzębiu-Zdroju</td>\n",
       "    </tr>\n",
       "    <tr>\n",
       "      <th>62</th>\n",
       "      <td>KS Jastrzębski Węgiel S.A.</td>\n",
       "      <td>Jastrzębski Węgiel</td>\n",
       "      <td>Jastrzębiu-Zdroju</td>\n",
       "    </tr>\n",
       "  </tbody>\n",
       "</table>\n",
       "</div>"
      ],
      "text/plain": [
       "                       team_raw                Team               City\n",
       "43     IVETT JASTRZĘBIE BORYNIA  Jastrzębski Węgiel  Jastrzębiu-Zdroju\n",
       "49           JASTRZĘBIE BORYNIA  Jastrzębski Węgiel  Jastrzębiu-Zdroju\n",
       "50           Jastrzębski Węgiel  Jastrzębski Węgiel  Jastrzębiu-Zdroju\n",
       "51       JASTRZĘBSKI WĘGIEL SSA  Jastrzębski Węgiel  Jastrzębiu-Zdroju\n",
       "52       JSW Jastrzębski Węgiel  Jastrzębski Węgiel  Jastrzębiu-Zdroju\n",
       "60  KS IVETT JASTRZĘBIE BORYNIA  Jastrzębski Węgiel  Jastrzębiu-Zdroju\n",
       "62   KS Jastrzębski Węgiel S.A.  Jastrzębski Węgiel  Jastrzębiu-Zdroju"
      ]
     },
     "execution_count": 200,
     "metadata": {},
     "output_type": "execute_result"
    }
   ],
   "source": [
    "teams_raw.iloc[index_jastrzębski]"
   ]
  },
  {
   "cell_type": "markdown",
   "id": "b5f88223",
   "metadata": {},
   "source": [
    "## 21 - Sosnowiec"
   ]
  },
  {
   "cell_type": "code",
   "execution_count": 203,
   "id": "ea905309",
   "metadata": {},
   "outputs": [
    {
     "data": {
      "text/plain": [
       "53                  k.p. polska energia\n",
       "54          kazimierz płomień sosnowiec\n",
       "56    kp - polska energia ssa sosnowiec\n",
       "93                 płomień sa sosnowiec\n",
       "Name: team, dtype: object"
      ]
     },
     "execution_count": 203,
     "metadata": {},
     "output_type": "execute_result"
    }
   ],
   "source": [
    "teams_raw_lower[(teams_raw_lower.str.contains('energia')) | (teams_raw_lower.str.contains('sosnowiec'))\n",
    "               | (teams_raw_lower.str.contains('kazimierz')) | (teams_raw_lower.str.contains('płomień'))]"
   ]
  },
  {
   "cell_type": "code",
   "execution_count": 204,
   "id": "c6e5b0e3",
   "metadata": {},
   "outputs": [],
   "source": [
    "index_sosnowiec = teams_raw_lower[(teams_raw_lower.str.contains('energia')) | (teams_raw_lower.str.contains('sosnowiec'))\n",
    "               | (teams_raw_lower.str.contains('kazimierz')) | (teams_raw_lower.str.contains('płomień'))].index"
   ]
  },
  {
   "cell_type": "code",
   "execution_count": 205,
   "id": "88f27e6f",
   "metadata": {},
   "outputs": [],
   "source": [
    "teams_raw['Team'][index_sosnowiec] = 'Płomień Sosnowiec'\n",
    "teams_raw['City'][index_sosnowiec] = 'Sosnowiec'"
   ]
  },
  {
   "cell_type": "code",
   "execution_count": 206,
   "id": "6fb485c0",
   "metadata": {},
   "outputs": [
    {
     "data": {
      "text/html": [
       "<div>\n",
       "<style scoped>\n",
       "    .dataframe tbody tr th:only-of-type {\n",
       "        vertical-align: middle;\n",
       "    }\n",
       "\n",
       "    .dataframe tbody tr th {\n",
       "        vertical-align: top;\n",
       "    }\n",
       "\n",
       "    .dataframe thead th {\n",
       "        text-align: right;\n",
       "    }\n",
       "</style>\n",
       "<table border=\"1\" class=\"dataframe\">\n",
       "  <thead>\n",
       "    <tr style=\"text-align: right;\">\n",
       "      <th></th>\n",
       "      <th>team_raw</th>\n",
       "      <th>Team</th>\n",
       "      <th>City</th>\n",
       "    </tr>\n",
       "  </thead>\n",
       "  <tbody>\n",
       "    <tr>\n",
       "      <th>53</th>\n",
       "      <td>K.P. POLSKA ENERGIA</td>\n",
       "      <td>Płomień Sosnowiec</td>\n",
       "      <td>Sosnowiec</td>\n",
       "    </tr>\n",
       "    <tr>\n",
       "      <th>54</th>\n",
       "      <td>KAZIMIERZ PŁOMIEŃ SOSNOWIEC</td>\n",
       "      <td>Płomień Sosnowiec</td>\n",
       "      <td>Sosnowiec</td>\n",
       "    </tr>\n",
       "    <tr>\n",
       "      <th>56</th>\n",
       "      <td>KP - POLSKA ENERGIA SSA SOSNOWIEC</td>\n",
       "      <td>Płomień Sosnowiec</td>\n",
       "      <td>Sosnowiec</td>\n",
       "    </tr>\n",
       "    <tr>\n",
       "      <th>93</th>\n",
       "      <td>PŁOMIEŃ SA SOSNOWIEC</td>\n",
       "      <td>Płomień Sosnowiec</td>\n",
       "      <td>Sosnowiec</td>\n",
       "    </tr>\n",
       "  </tbody>\n",
       "</table>\n",
       "</div>"
      ],
      "text/plain": [
       "                             team_raw               Team       City\n",
       "53                K.P. POLSKA ENERGIA  Płomień Sosnowiec  Sosnowiec\n",
       "54        KAZIMIERZ PŁOMIEŃ SOSNOWIEC  Płomień Sosnowiec  Sosnowiec\n",
       "56  KP - POLSKA ENERGIA SSA SOSNOWIEC  Płomień Sosnowiec  Sosnowiec\n",
       "93               PŁOMIEŃ SA SOSNOWIEC  Płomień Sosnowiec  Sosnowiec"
      ]
     },
     "execution_count": 206,
     "metadata": {},
     "output_type": "execute_result"
    }
   ],
   "source": [
    "teams_raw.iloc[index_sosnowiec]"
   ]
  },
  {
   "cell_type": "markdown",
   "id": "519a632d",
   "metadata": {},
   "source": [
    "## 22 - Gdańsk"
   ]
  },
  {
   "cell_type": "code",
   "execution_count": 208,
   "id": "190cbb5e",
   "metadata": {},
   "outputs": [
    {
     "data": {
      "text/plain": [
       "67     lotos trefl gdańsk\n",
       "103          trefl gdańsk\n",
       "Name: team, dtype: object"
      ]
     },
     "execution_count": 208,
     "metadata": {},
     "output_type": "execute_result"
    }
   ],
   "source": [
    "teams_raw_lower[(teams_raw_lower.str.contains('gdańsk')) | (teams_raw_lower.str.contains('lotos')) \n",
    "               | (teams_raw_lower.str.contains('trefl'))]"
   ]
  },
  {
   "cell_type": "code",
   "execution_count": 209,
   "id": "1c5126aa",
   "metadata": {},
   "outputs": [],
   "source": [
    "index_gdansk = teams_raw_lower[(teams_raw_lower.str.contains('gdańsk')) | (teams_raw_lower.str.contains('lotos')) \n",
    "               | (teams_raw_lower.str.contains('trefl'))].index"
   ]
  },
  {
   "cell_type": "code",
   "execution_count": 210,
   "id": "6245198f",
   "metadata": {},
   "outputs": [],
   "source": [
    "teams_raw['Team'][index_gdansk] = 'Trefl Gdańsk'\n",
    "teams_raw['City'][index_gdansk] = 'Gdańsk'"
   ]
  },
  {
   "cell_type": "code",
   "execution_count": 211,
   "id": "7a63953c",
   "metadata": {},
   "outputs": [
    {
     "data": {
      "text/html": [
       "<div>\n",
       "<style scoped>\n",
       "    .dataframe tbody tr th:only-of-type {\n",
       "        vertical-align: middle;\n",
       "    }\n",
       "\n",
       "    .dataframe tbody tr th {\n",
       "        vertical-align: top;\n",
       "    }\n",
       "\n",
       "    .dataframe thead th {\n",
       "        text-align: right;\n",
       "    }\n",
       "</style>\n",
       "<table border=\"1\" class=\"dataframe\">\n",
       "  <thead>\n",
       "    <tr style=\"text-align: right;\">\n",
       "      <th></th>\n",
       "      <th>team_raw</th>\n",
       "      <th>Team</th>\n",
       "      <th>City</th>\n",
       "    </tr>\n",
       "  </thead>\n",
       "  <tbody>\n",
       "    <tr>\n",
       "      <th>67</th>\n",
       "      <td>LOTOS Trefl Gdańsk</td>\n",
       "      <td>Trefl Gdańsk</td>\n",
       "      <td>Gdańsk</td>\n",
       "    </tr>\n",
       "    <tr>\n",
       "      <th>103</th>\n",
       "      <td>Trefl Gdańsk</td>\n",
       "      <td>Trefl Gdańsk</td>\n",
       "      <td>Gdańsk</td>\n",
       "    </tr>\n",
       "  </tbody>\n",
       "</table>\n",
       "</div>"
      ],
      "text/plain": [
       "               team_raw          Team    City\n",
       "67   LOTOS Trefl Gdańsk  Trefl Gdańsk  Gdańsk\n",
       "103        Trefl Gdańsk  Trefl Gdańsk  Gdańsk"
      ]
     },
     "execution_count": 211,
     "metadata": {},
     "output_type": "execute_result"
    }
   ],
   "source": [
    "teams_raw.iloc[index_gdansk]"
   ]
  },
  {
   "cell_type": "markdown",
   "id": "bf94a7d5",
   "metadata": {},
   "source": [
    "## 23 - Będzin"
   ]
  },
  {
   "cell_type": "code",
   "execution_count": 212,
   "id": "e48f4d0e",
   "metadata": {},
   "outputs": [
    {
     "data": {
      "text/plain": [
       "69        mks banimex będzin\n",
       "70                mks będzin\n",
       "80    nowak-mosty mks będzin\n",
       "Name: team, dtype: object"
      ]
     },
     "execution_count": 212,
     "metadata": {},
     "output_type": "execute_result"
    }
   ],
   "source": [
    "teams_raw_lower[(teams_raw_lower.str.contains('będzin')) | (teams_raw_lower.str.contains('mks'))]"
   ]
  },
  {
   "cell_type": "code",
   "execution_count": 213,
   "id": "973aa096",
   "metadata": {},
   "outputs": [],
   "source": [
    "index_bedzin = teams_raw_lower[(teams_raw_lower.str.contains('będzin')) | (teams_raw_lower.str.contains('mks'))].index"
   ]
  },
  {
   "cell_type": "code",
   "execution_count": 214,
   "id": "a9640ee3",
   "metadata": {},
   "outputs": [],
   "source": [
    "teams_raw['Team'][index_bedzin] = 'MKS Będzin'\n",
    "teams_raw['City'][index_bedzin] = 'Będzin'"
   ]
  },
  {
   "cell_type": "code",
   "execution_count": 215,
   "id": "c7696b78",
   "metadata": {},
   "outputs": [
    {
     "data": {
      "text/html": [
       "<div>\n",
       "<style scoped>\n",
       "    .dataframe tbody tr th:only-of-type {\n",
       "        vertical-align: middle;\n",
       "    }\n",
       "\n",
       "    .dataframe tbody tr th {\n",
       "        vertical-align: top;\n",
       "    }\n",
       "\n",
       "    .dataframe thead th {\n",
       "        text-align: right;\n",
       "    }\n",
       "</style>\n",
       "<table border=\"1\" class=\"dataframe\">\n",
       "  <thead>\n",
       "    <tr style=\"text-align: right;\">\n",
       "      <th></th>\n",
       "      <th>team_raw</th>\n",
       "      <th>Team</th>\n",
       "      <th>City</th>\n",
       "    </tr>\n",
       "  </thead>\n",
       "  <tbody>\n",
       "    <tr>\n",
       "      <th>69</th>\n",
       "      <td>MKS BANIMEX BĘDZIN</td>\n",
       "      <td>MKS Będzin</td>\n",
       "      <td>Będzin</td>\n",
       "    </tr>\n",
       "    <tr>\n",
       "      <th>70</th>\n",
       "      <td>MKS Będzin</td>\n",
       "      <td>MKS Będzin</td>\n",
       "      <td>Będzin</td>\n",
       "    </tr>\n",
       "    <tr>\n",
       "      <th>80</th>\n",
       "      <td>Nowak-Mosty MKS Będzin</td>\n",
       "      <td>MKS Będzin</td>\n",
       "      <td>Będzin</td>\n",
       "    </tr>\n",
       "  </tbody>\n",
       "</table>\n",
       "</div>"
      ],
      "text/plain": [
       "                  team_raw        Team    City\n",
       "69      MKS BANIMEX BĘDZIN  MKS Będzin  Będzin\n",
       "70              MKS Będzin  MKS Będzin  Będzin\n",
       "80  Nowak-Mosty MKS Będzin  MKS Będzin  Będzin"
      ]
     },
     "execution_count": 215,
     "metadata": {},
     "output_type": "execute_result"
    }
   ],
   "source": [
    "teams_raw.iloc[index_bedzin]"
   ]
  },
  {
   "cell_type": "markdown",
   "id": "7d72f2f2",
   "metadata": {},
   "source": [
    "## 24 - Wieluń"
   ]
  },
  {
   "cell_type": "code",
   "execution_count": 217,
   "id": "0110f111",
   "metadata": {},
   "outputs": [
    {
     "data": {
      "text/plain": [
       "85    pamapol siatkarz wieluń\n",
       "86     pamapol wielton wieluń\n",
       "Name: team, dtype: object"
      ]
     },
     "execution_count": 217,
     "metadata": {},
     "output_type": "execute_result"
    }
   ],
   "source": [
    "teams_raw_lower[(teams_raw_lower.str.contains('wieluń'))]"
   ]
  },
  {
   "cell_type": "code",
   "execution_count": 218,
   "id": "ac79cddb",
   "metadata": {},
   "outputs": [],
   "source": [
    "index_wielun = teams_raw_lower[(teams_raw_lower.str.contains('wieluń'))].index"
   ]
  },
  {
   "cell_type": "code",
   "execution_count": 219,
   "id": "a80ea7fc",
   "metadata": {},
   "outputs": [],
   "source": [
    "teams_raw['Team'][index_wielun] = 'Siatkarz Wieluń'\n",
    "teams_raw['City'][index_wielun] = 'Wieluń'"
   ]
  },
  {
   "cell_type": "code",
   "execution_count": 220,
   "id": "12e1c972",
   "metadata": {},
   "outputs": [
    {
     "data": {
      "text/html": [
       "<div>\n",
       "<style scoped>\n",
       "    .dataframe tbody tr th:only-of-type {\n",
       "        vertical-align: middle;\n",
       "    }\n",
       "\n",
       "    .dataframe tbody tr th {\n",
       "        vertical-align: top;\n",
       "    }\n",
       "\n",
       "    .dataframe thead th {\n",
       "        text-align: right;\n",
       "    }\n",
       "</style>\n",
       "<table border=\"1\" class=\"dataframe\">\n",
       "  <thead>\n",
       "    <tr style=\"text-align: right;\">\n",
       "      <th></th>\n",
       "      <th>team_raw</th>\n",
       "      <th>Team</th>\n",
       "      <th>City</th>\n",
       "    </tr>\n",
       "  </thead>\n",
       "  <tbody>\n",
       "    <tr>\n",
       "      <th>85</th>\n",
       "      <td>Pamapol Siatkarz Wieluń</td>\n",
       "      <td>Siatkarz Wieluń</td>\n",
       "      <td>Wieluń</td>\n",
       "    </tr>\n",
       "    <tr>\n",
       "      <th>86</th>\n",
       "      <td>Pamapol Wielton Wieluń</td>\n",
       "      <td>Siatkarz Wieluń</td>\n",
       "      <td>Wieluń</td>\n",
       "    </tr>\n",
       "  </tbody>\n",
       "</table>\n",
       "</div>"
      ],
      "text/plain": [
       "                   team_raw             Team    City\n",
       "85  Pamapol Siatkarz Wieluń  Siatkarz Wieluń  Wieluń\n",
       "86   Pamapol Wielton Wieluń  Siatkarz Wieluń  Wieluń"
      ]
     },
     "execution_count": 220,
     "metadata": {},
     "output_type": "execute_result"
    }
   ],
   "source": [
    "teams_raw.iloc[index_wielun]"
   ]
  },
  {
   "cell_type": "markdown",
   "id": "f1ea7512",
   "metadata": {},
   "source": [
    "## 25 - Radlin"
   ]
  },
  {
   "cell_type": "code",
   "execution_count": 222,
   "id": "99a0b7e6",
   "metadata": {},
   "outputs": [
    {
     "data": {
      "text/plain": [
       "95    sk górnik radlin\n",
       "Name: team, dtype: object"
      ]
     },
     "execution_count": 222,
     "metadata": {},
     "output_type": "execute_result"
    }
   ],
   "source": [
    "teams_raw_lower[(teams_raw_lower.str.contains('radlin')) | (teams_raw_lower.str.contains('górnik'))]"
   ]
  },
  {
   "cell_type": "code",
   "execution_count": 223,
   "id": "3caf87d1",
   "metadata": {},
   "outputs": [],
   "source": [
    "index_radlin = teams_raw_lower[(teams_raw_lower.str.contains('radlin')) | (teams_raw_lower.str.contains('górnik'))].index"
   ]
  },
  {
   "cell_type": "code",
   "execution_count": 230,
   "id": "fa687122",
   "metadata": {},
   "outputs": [],
   "source": [
    "teams_raw['Team'][index_radlin] = 'Górnik Radlin'\n",
    "teams_raw['City'][index_radlin] = 'Radlin'"
   ]
  },
  {
   "cell_type": "code",
   "execution_count": 231,
   "id": "b396a6a7",
   "metadata": {},
   "outputs": [
    {
     "data": {
      "text/html": [
       "<div>\n",
       "<style scoped>\n",
       "    .dataframe tbody tr th:only-of-type {\n",
       "        vertical-align: middle;\n",
       "    }\n",
       "\n",
       "    .dataframe tbody tr th {\n",
       "        vertical-align: top;\n",
       "    }\n",
       "\n",
       "    .dataframe thead th {\n",
       "        text-align: right;\n",
       "    }\n",
       "</style>\n",
       "<table border=\"1\" class=\"dataframe\">\n",
       "  <thead>\n",
       "    <tr style=\"text-align: right;\">\n",
       "      <th></th>\n",
       "      <th>team_raw</th>\n",
       "      <th>Team</th>\n",
       "      <th>City</th>\n",
       "    </tr>\n",
       "  </thead>\n",
       "  <tbody>\n",
       "    <tr>\n",
       "      <th>95</th>\n",
       "      <td>SK GÓRNIK RADLIN</td>\n",
       "      <td>Górnik Radlin</td>\n",
       "      <td>Radlin</td>\n",
       "    </tr>\n",
       "  </tbody>\n",
       "</table>\n",
       "</div>"
      ],
      "text/plain": [
       "            team_raw           Team    City\n",
       "95  SK GÓRNIK RADLIN  Górnik Radlin  Radlin"
      ]
     },
     "execution_count": 231,
     "metadata": {},
     "output_type": "execute_result"
    }
   ],
   "source": [
    "teams_raw.iloc[index_radlin]"
   ]
  },
  {
   "cell_type": "markdown",
   "id": "12d8c527",
   "metadata": {},
   "source": [
    "## 26 - Wołomin"
   ]
  },
  {
   "cell_type": "code",
   "execution_count": 226,
   "id": "25b59d84",
   "metadata": {},
   "outputs": [
    {
     "data": {
      "text/plain": [
       "101       stolarka wołomin\n",
       "104    ts stolarka wołomin\n",
       "Name: team, dtype: object"
      ]
     },
     "execution_count": 226,
     "metadata": {},
     "output_type": "execute_result"
    }
   ],
   "source": [
    "teams_raw_lower[(teams_raw_lower.str.contains('stolarka')) | (teams_raw_lower.str.contains('wołomin'))]"
   ]
  },
  {
   "cell_type": "code",
   "execution_count": 227,
   "id": "c3475005",
   "metadata": {},
   "outputs": [],
   "source": [
    "index_wolomin = teams_raw_lower[(teams_raw_lower.str.contains('stolarka')) | (teams_raw_lower.str.contains('wołomin'))].index"
   ]
  },
  {
   "cell_type": "code",
   "execution_count": 232,
   "id": "4fa8a78d",
   "metadata": {},
   "outputs": [],
   "source": [
    "teams_raw['Team'][index_wolomin] = 'Stolarka Wołomin'\n",
    "teams_raw['City'][index_wolomin] = 'Wołomin'"
   ]
  },
  {
   "cell_type": "code",
   "execution_count": 233,
   "id": "4428528d",
   "metadata": {},
   "outputs": [
    {
     "data": {
      "text/html": [
       "<div>\n",
       "<style scoped>\n",
       "    .dataframe tbody tr th:only-of-type {\n",
       "        vertical-align: middle;\n",
       "    }\n",
       "\n",
       "    .dataframe tbody tr th {\n",
       "        vertical-align: top;\n",
       "    }\n",
       "\n",
       "    .dataframe thead th {\n",
       "        text-align: right;\n",
       "    }\n",
       "</style>\n",
       "<table border=\"1\" class=\"dataframe\">\n",
       "  <thead>\n",
       "    <tr style=\"text-align: right;\">\n",
       "      <th></th>\n",
       "      <th>team_raw</th>\n",
       "      <th>Team</th>\n",
       "      <th>City</th>\n",
       "    </tr>\n",
       "  </thead>\n",
       "  <tbody>\n",
       "    <tr>\n",
       "      <th>101</th>\n",
       "      <td>STOLARKA WOŁOMIN</td>\n",
       "      <td>Stolarka Wołomin</td>\n",
       "      <td>Wołomin</td>\n",
       "    </tr>\n",
       "    <tr>\n",
       "      <th>104</th>\n",
       "      <td>TS STOLARKA WOŁOMIN</td>\n",
       "      <td>Stolarka Wołomin</td>\n",
       "      <td>Wołomin</td>\n",
       "    </tr>\n",
       "  </tbody>\n",
       "</table>\n",
       "</div>"
      ],
      "text/plain": [
       "                team_raw              Team     City\n",
       "101     STOLARKA WOŁOMIN  Stolarka Wołomin  Wołomin\n",
       "104  TS STOLARKA WOŁOMIN  Stolarka Wołomin  Wołomin"
      ]
     },
     "execution_count": 233,
     "metadata": {},
     "output_type": "execute_result"
    }
   ],
   "source": [
    "teams_raw.iloc[index_wolomin]"
   ]
  },
  {
   "cell_type": "markdown",
   "id": "3e83ef8b",
   "metadata": {},
   "source": [
    "## 27 - Suwałki"
   ]
  },
  {
   "cell_type": "code",
   "execution_count": 234,
   "id": "1595643b",
   "metadata": {},
   "outputs": [
    {
     "data": {
      "text/plain": [
       "113    ślepsk malow suwałki\n",
       "Name: team, dtype: object"
      ]
     },
     "execution_count": 234,
     "metadata": {},
     "output_type": "execute_result"
    }
   ],
   "source": [
    "teams_raw_lower[(teams_raw_lower.str.contains('suwałki')) | (teams_raw_lower.str.contains('lepsk'))]"
   ]
  },
  {
   "cell_type": "code",
   "execution_count": 237,
   "id": "e45169e3",
   "metadata": {},
   "outputs": [],
   "source": [
    "index_suwalki = teams_raw_lower[(teams_raw_lower.str.contains('suwałki')) | (teams_raw_lower.str.contains('lepsk'))].index"
   ]
  },
  {
   "cell_type": "code",
   "execution_count": 238,
   "id": "27a7f11e",
   "metadata": {},
   "outputs": [],
   "source": [
    "teams_raw['Team'][index_suwalki] = 'Ślepsk Malow Suwałki'\n",
    "teams_raw['City'][index_suwalki] = 'Suwałki'"
   ]
  },
  {
   "cell_type": "code",
   "execution_count": 239,
   "id": "49f79ad1",
   "metadata": {},
   "outputs": [
    {
     "data": {
      "text/html": [
       "<div>\n",
       "<style scoped>\n",
       "    .dataframe tbody tr th:only-of-type {\n",
       "        vertical-align: middle;\n",
       "    }\n",
       "\n",
       "    .dataframe tbody tr th {\n",
       "        vertical-align: top;\n",
       "    }\n",
       "\n",
       "    .dataframe thead th {\n",
       "        text-align: right;\n",
       "    }\n",
       "</style>\n",
       "<table border=\"1\" class=\"dataframe\">\n",
       "  <thead>\n",
       "    <tr style=\"text-align: right;\">\n",
       "      <th></th>\n",
       "      <th>team_raw</th>\n",
       "      <th>Team</th>\n",
       "      <th>City</th>\n",
       "    </tr>\n",
       "  </thead>\n",
       "  <tbody>\n",
       "    <tr>\n",
       "      <th>113</th>\n",
       "      <td>Ślepsk Malow Suwałki</td>\n",
       "      <td>Ślepsk Malow Suwałki</td>\n",
       "      <td>Suwałki</td>\n",
       "    </tr>\n",
       "  </tbody>\n",
       "</table>\n",
       "</div>"
      ],
      "text/plain": [
       "                 team_raw                  Team     City\n",
       "113  Ślepsk Malow Suwałki  Ślepsk Malow Suwałki  Suwałki"
      ]
     },
     "execution_count": 239,
     "metadata": {},
     "output_type": "execute_result"
    }
   ],
   "source": [
    "teams_raw.iloc[index_suwalki]"
   ]
  },
  {
   "cell_type": "code",
   "execution_count": 242,
   "id": "af3fe6dd",
   "metadata": {},
   "outputs": [
    {
     "data": {
      "text/plain": [
       "0"
      ]
     },
     "execution_count": 242,
     "metadata": {},
     "output_type": "execute_result"
    }
   ],
   "source": [
    "(teams_raw['City'] == 'Na').sum()"
   ]
  },
  {
   "cell_type": "code",
   "execution_count": 266,
   "id": "b1f7e5ef",
   "metadata": {},
   "outputs": [],
   "source": [
    "teams = teams_raw[['Team', 'City']].copy()"
   ]
  },
  {
   "cell_type": "code",
   "execution_count": 270,
   "id": "1f71187f",
   "metadata": {},
   "outputs": [],
   "source": [
    "teams = teams.drop_duplicates(ignore_index= True)"
   ]
  },
  {
   "cell_type": "code",
   "execution_count": 273,
   "id": "98393706",
   "metadata": {},
   "outputs": [],
   "source": [
    "teams.to_csv('C:/Users/soler/Desktop/My_works/volleyball-database/data/processed/teams.csv', index = False)"
   ]
  },
  {
   "cell_type": "code",
   "execution_count": null,
   "id": "1cd47c7a",
   "metadata": {},
   "outputs": [],
   "source": []
  }
 ],
 "metadata": {
  "kernelspec": {
   "display_name": "Python 3 (ipykernel)",
   "language": "python",
   "name": "python3"
  },
  "language_info": {
   "codemirror_mode": {
    "name": "ipython",
    "version": 3
   },
   "file_extension": ".py",
   "mimetype": "text/x-python",
   "name": "python",
   "nbconvert_exporter": "python",
   "pygments_lexer": "ipython3",
   "version": "3.11.5"
  }
 },
 "nbformat": 4,
 "nbformat_minor": 5
}
